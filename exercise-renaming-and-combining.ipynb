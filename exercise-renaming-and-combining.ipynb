{
 "cells": [
  {
   "cell_type": "markdown",
   "id": "universal-particle",
   "metadata": {
    "papermill": {
     "duration": 0.015002,
     "end_time": "2021-05-09T04:43:45.617921",
     "exception": false,
     "start_time": "2021-05-09T04:43:45.602919",
     "status": "completed"
    },
    "tags": []
   },
   "source": [
    "**This notebook is an exercise in the [Pandas](https://www.kaggle.com/learn/pandas) course.  You can reference the tutorial at [this link](https://www.kaggle.com/residentmario/renaming-and-combining).**\n",
    "\n",
    "---\n"
   ]
  },
  {
   "cell_type": "markdown",
   "id": "electoral-lounge",
   "metadata": {
    "papermill": {
     "duration": 0.013683,
     "end_time": "2021-05-09T04:43:45.645961",
     "exception": false,
     "start_time": "2021-05-09T04:43:45.632278",
     "status": "completed"
    },
    "tags": []
   },
   "source": [
    "# Introduction\n",
    "\n",
    "Run the following cell to load your data and some utility functions."
   ]
  },
  {
   "cell_type": "code",
   "execution_count": 1,
   "id": "given-pipeline",
   "metadata": {
    "execution": {
     "iopub.execute_input": "2021-05-09T04:43:45.678190Z",
     "iopub.status.busy": "2021-05-09T04:43:45.677005Z",
     "iopub.status.idle": "2021-05-09T04:43:49.856420Z",
     "shell.execute_reply": "2021-05-09T04:43:49.855741Z"
    },
    "papermill": {
     "duration": 4.196752,
     "end_time": "2021-05-09T04:43:49.856586",
     "exception": false,
     "start_time": "2021-05-09T04:43:45.659834",
     "status": "completed"
    },
    "tags": []
   },
   "outputs": [
    {
     "name": "stdout",
     "output_type": "stream",
     "text": [
      "Setup complete.\n"
     ]
    }
   ],
   "source": [
    "import pandas as pd\n",
    "\n",
    "reviews = pd.read_csv(\"../input/wine-reviews/winemag-data-130k-v2.csv\", index_col=0)\n",
    "\n",
    "from learntools.core import binder; binder.bind(globals())\n",
    "from learntools.pandas.renaming_and_combining import *\n",
    "print(\"Setup complete.\")"
   ]
  },
  {
   "cell_type": "markdown",
   "id": "recognized-presentation",
   "metadata": {
    "papermill": {
     "duration": 0.013899,
     "end_time": "2021-05-09T04:43:49.885258",
     "exception": false,
     "start_time": "2021-05-09T04:43:49.871359",
     "status": "completed"
    },
    "tags": []
   },
   "source": [
    "# Exercises\n",
    "\n",
    "View the first several lines of your data by running the cell below:"
   ]
  },
  {
   "cell_type": "code",
   "execution_count": 2,
   "id": "complete-investment",
   "metadata": {
    "execution": {
     "iopub.execute_input": "2021-05-09T04:43:49.920967Z",
     "iopub.status.busy": "2021-05-09T04:43:49.920334Z",
     "iopub.status.idle": "2021-05-09T04:43:49.941456Z",
     "shell.execute_reply": "2021-05-09T04:43:49.941954Z"
    },
    "papermill": {
     "duration": 0.042419,
     "end_time": "2021-05-09T04:43:49.942123",
     "exception": false,
     "start_time": "2021-05-09T04:43:49.899704",
     "status": "completed"
    },
    "tags": []
   },
   "outputs": [
    {
     "data": {
      "text/html": [
       "<div>\n",
       "<style scoped>\n",
       "    .dataframe tbody tr th:only-of-type {\n",
       "        vertical-align: middle;\n",
       "    }\n",
       "\n",
       "    .dataframe tbody tr th {\n",
       "        vertical-align: top;\n",
       "    }\n",
       "\n",
       "    .dataframe thead th {\n",
       "        text-align: right;\n",
       "    }\n",
       "</style>\n",
       "<table border=\"1\" class=\"dataframe\">\n",
       "  <thead>\n",
       "    <tr style=\"text-align: right;\">\n",
       "      <th></th>\n",
       "      <th>country</th>\n",
       "      <th>description</th>\n",
       "      <th>designation</th>\n",
       "      <th>points</th>\n",
       "      <th>price</th>\n",
       "      <th>province</th>\n",
       "      <th>region_1</th>\n",
       "      <th>region_2</th>\n",
       "      <th>taster_name</th>\n",
       "      <th>taster_twitter_handle</th>\n",
       "      <th>title</th>\n",
       "      <th>variety</th>\n",
       "      <th>winery</th>\n",
       "    </tr>\n",
       "  </thead>\n",
       "  <tbody>\n",
       "    <tr>\n",
       "      <th>0</th>\n",
       "      <td>Italy</td>\n",
       "      <td>Aromas include tropical fruit, broom, brimston...</td>\n",
       "      <td>Vulkà Bianco</td>\n",
       "      <td>87</td>\n",
       "      <td>NaN</td>\n",
       "      <td>Sicily &amp; Sardinia</td>\n",
       "      <td>Etna</td>\n",
       "      <td>NaN</td>\n",
       "      <td>Kerin O’Keefe</td>\n",
       "      <td>@kerinokeefe</td>\n",
       "      <td>Nicosia 2013 Vulkà Bianco  (Etna)</td>\n",
       "      <td>White Blend</td>\n",
       "      <td>Nicosia</td>\n",
       "    </tr>\n",
       "    <tr>\n",
       "      <th>1</th>\n",
       "      <td>Portugal</td>\n",
       "      <td>This is ripe and fruity, a wine that is smooth...</td>\n",
       "      <td>Avidagos</td>\n",
       "      <td>87</td>\n",
       "      <td>15.0</td>\n",
       "      <td>Douro</td>\n",
       "      <td>NaN</td>\n",
       "      <td>NaN</td>\n",
       "      <td>Roger Voss</td>\n",
       "      <td>@vossroger</td>\n",
       "      <td>Quinta dos Avidagos 2011 Avidagos Red (Douro)</td>\n",
       "      <td>Portuguese Red</td>\n",
       "      <td>Quinta dos Avidagos</td>\n",
       "    </tr>\n",
       "    <tr>\n",
       "      <th>2</th>\n",
       "      <td>US</td>\n",
       "      <td>Tart and snappy, the flavors of lime flesh and...</td>\n",
       "      <td>NaN</td>\n",
       "      <td>87</td>\n",
       "      <td>14.0</td>\n",
       "      <td>Oregon</td>\n",
       "      <td>Willamette Valley</td>\n",
       "      <td>Willamette Valley</td>\n",
       "      <td>Paul Gregutt</td>\n",
       "      <td>@paulgwine</td>\n",
       "      <td>Rainstorm 2013 Pinot Gris (Willamette Valley)</td>\n",
       "      <td>Pinot Gris</td>\n",
       "      <td>Rainstorm</td>\n",
       "    </tr>\n",
       "    <tr>\n",
       "      <th>3</th>\n",
       "      <td>US</td>\n",
       "      <td>Pineapple rind, lemon pith and orange blossom ...</td>\n",
       "      <td>Reserve Late Harvest</td>\n",
       "      <td>87</td>\n",
       "      <td>13.0</td>\n",
       "      <td>Michigan</td>\n",
       "      <td>Lake Michigan Shore</td>\n",
       "      <td>NaN</td>\n",
       "      <td>Alexander Peartree</td>\n",
       "      <td>NaN</td>\n",
       "      <td>St. Julian 2013 Reserve Late Harvest Riesling ...</td>\n",
       "      <td>Riesling</td>\n",
       "      <td>St. Julian</td>\n",
       "    </tr>\n",
       "    <tr>\n",
       "      <th>4</th>\n",
       "      <td>US</td>\n",
       "      <td>Much like the regular bottling from 2012, this...</td>\n",
       "      <td>Vintner's Reserve Wild Child Block</td>\n",
       "      <td>87</td>\n",
       "      <td>65.0</td>\n",
       "      <td>Oregon</td>\n",
       "      <td>Willamette Valley</td>\n",
       "      <td>Willamette Valley</td>\n",
       "      <td>Paul Gregutt</td>\n",
       "      <td>@paulgwine</td>\n",
       "      <td>Sweet Cheeks 2012 Vintner's Reserve Wild Child...</td>\n",
       "      <td>Pinot Noir</td>\n",
       "      <td>Sweet Cheeks</td>\n",
       "    </tr>\n",
       "  </tbody>\n",
       "</table>\n",
       "</div>"
      ],
      "text/plain": [
       "    country                                        description  \\\n",
       "0     Italy  Aromas include tropical fruit, broom, brimston...   \n",
       "1  Portugal  This is ripe and fruity, a wine that is smooth...   \n",
       "2        US  Tart and snappy, the flavors of lime flesh and...   \n",
       "3        US  Pineapple rind, lemon pith and orange blossom ...   \n",
       "4        US  Much like the regular bottling from 2012, this...   \n",
       "\n",
       "                          designation  points  price           province  \\\n",
       "0                        Vulkà Bianco      87    NaN  Sicily & Sardinia   \n",
       "1                            Avidagos      87   15.0              Douro   \n",
       "2                                 NaN      87   14.0             Oregon   \n",
       "3                Reserve Late Harvest      87   13.0           Michigan   \n",
       "4  Vintner's Reserve Wild Child Block      87   65.0             Oregon   \n",
       "\n",
       "              region_1           region_2         taster_name  \\\n",
       "0                 Etna                NaN       Kerin O’Keefe   \n",
       "1                  NaN                NaN          Roger Voss   \n",
       "2    Willamette Valley  Willamette Valley        Paul Gregutt   \n",
       "3  Lake Michigan Shore                NaN  Alexander Peartree   \n",
       "4    Willamette Valley  Willamette Valley        Paul Gregutt   \n",
       "\n",
       "  taster_twitter_handle                                              title  \\\n",
       "0          @kerinokeefe                  Nicosia 2013 Vulkà Bianco  (Etna)   \n",
       "1            @vossroger      Quinta dos Avidagos 2011 Avidagos Red (Douro)   \n",
       "2           @paulgwine       Rainstorm 2013 Pinot Gris (Willamette Valley)   \n",
       "3                   NaN  St. Julian 2013 Reserve Late Harvest Riesling ...   \n",
       "4           @paulgwine   Sweet Cheeks 2012 Vintner's Reserve Wild Child...   \n",
       "\n",
       "          variety               winery  \n",
       "0     White Blend              Nicosia  \n",
       "1  Portuguese Red  Quinta dos Avidagos  \n",
       "2      Pinot Gris            Rainstorm  \n",
       "3        Riesling           St. Julian  \n",
       "4      Pinot Noir         Sweet Cheeks  "
      ]
     },
     "execution_count": 2,
     "metadata": {},
     "output_type": "execute_result"
    }
   ],
   "source": [
    "reviews.head()"
   ]
  },
  {
   "cell_type": "markdown",
   "id": "mathematical-contents",
   "metadata": {
    "papermill": {
     "duration": 0.014694,
     "end_time": "2021-05-09T04:43:49.971894",
     "exception": false,
     "start_time": "2021-05-09T04:43:49.957200",
     "status": "completed"
    },
    "tags": []
   },
   "source": [
    "## 1.\n",
    "`region_1` and `region_2` are pretty uninformative names for locale columns in the dataset. Create a copy of `reviews` with these columns renamed to `region` and `locale`, respectively."
   ]
  },
  {
   "cell_type": "code",
   "execution_count": 3,
   "id": "bacterial-gossip",
   "metadata": {
    "execution": {
     "iopub.execute_input": "2021-05-09T04:43:50.009460Z",
     "iopub.status.busy": "2021-05-09T04:43:50.008467Z",
     "iopub.status.idle": "2021-05-09T04:43:50.038642Z",
     "shell.execute_reply": "2021-05-09T04:43:50.037969Z"
    },
    "papermill": {
     "duration": 0.050323,
     "end_time": "2021-05-09T04:43:50.038784",
     "exception": false,
     "start_time": "2021-05-09T04:43:49.988461",
     "status": "completed"
    },
    "tags": []
   },
   "outputs": [
    {
     "data": {
      "application/javascript": [
       "parent.postMessage({\"jupyterEvent\": \"custom.exercise_interaction\", \"data\": {\"outcomeType\": 1, \"valueTowardsCompletion\": 0.25, \"interactionType\": 1, \"questionType\": 1, \"questionId\": \"1_RenameCols\", \"learnToolsVersion\": \"0.3.4\", \"failureMessage\": \"\", \"exceptionClass\": \"\", \"trace\": \"\"}}, \"*\")"
      ],
      "text/plain": [
       "<IPython.core.display.Javascript object>"
      ]
     },
     "metadata": {},
     "output_type": "display_data"
    },
    {
     "data": {
      "text/markdown": [
       "<span style=\"color:#33cc33\">Correct</span>"
      ],
      "text/plain": [
       "Correct"
      ]
     },
     "metadata": {},
     "output_type": "display_data"
    }
   ],
   "source": [
    "# Your code here\n",
    "renamed = reviews.rename(columns=dict(region_1='region', region_2='locale'))\n",
    "\n",
    "# Check your answer\n",
    "q1.check()"
   ]
  },
  {
   "cell_type": "code",
   "execution_count": 4,
   "id": "animal-execution",
   "metadata": {
    "execution": {
     "iopub.execute_input": "2021-05-09T04:43:50.077599Z",
     "iopub.status.busy": "2021-05-09T04:43:50.076649Z",
     "iopub.status.idle": "2021-05-09T04:43:50.078430Z",
     "shell.execute_reply": "2021-05-09T04:43:50.078864Z"
    },
    "papermill": {
     "duration": 0.023818,
     "end_time": "2021-05-09T04:43:50.079027",
     "exception": false,
     "start_time": "2021-05-09T04:43:50.055209",
     "status": "completed"
    },
    "tags": []
   },
   "outputs": [],
   "source": [
    "#q1.hint()\n",
    "#q1.solution()"
   ]
  },
  {
   "cell_type": "markdown",
   "id": "insured-generation",
   "metadata": {
    "papermill": {
     "duration": 0.015976,
     "end_time": "2021-05-09T04:43:50.112045",
     "exception": false,
     "start_time": "2021-05-09T04:43:50.096069",
     "status": "completed"
    },
    "tags": []
   },
   "source": [
    "## 2.\n",
    "Set the index name in the dataset to `wines`."
   ]
  },
  {
   "cell_type": "code",
   "execution_count": 5,
   "id": "aggressive-botswana",
   "metadata": {
    "execution": {
     "iopub.execute_input": "2021-05-09T04:43:50.147863Z",
     "iopub.status.busy": "2021-05-09T04:43:50.147230Z",
     "iopub.status.idle": "2021-05-09T04:43:50.176658Z",
     "shell.execute_reply": "2021-05-09T04:43:50.175905Z"
    },
    "papermill": {
     "duration": 0.048484,
     "end_time": "2021-05-09T04:43:50.176798",
     "exception": false,
     "start_time": "2021-05-09T04:43:50.128314",
     "status": "completed"
    },
    "tags": []
   },
   "outputs": [
    {
     "data": {
      "application/javascript": [
       "parent.postMessage({\"jupyterEvent\": \"custom.exercise_interaction\", \"data\": {\"outcomeType\": 1, \"valueTowardsCompletion\": 0.25, \"interactionType\": 1, \"questionType\": 1, \"questionId\": \"2_RenameIndex\", \"learnToolsVersion\": \"0.3.4\", \"failureMessage\": \"\", \"exceptionClass\": \"\", \"trace\": \"\"}}, \"*\")"
      ],
      "text/plain": [
       "<IPython.core.display.Javascript object>"
      ]
     },
     "metadata": {},
     "output_type": "display_data"
    },
    {
     "data": {
      "text/markdown": [
       "<span style=\"color:#33cc33\">Correct</span>"
      ],
      "text/plain": [
       "Correct"
      ]
     },
     "metadata": {},
     "output_type": "display_data"
    }
   ],
   "source": [
    "reindexed = reviews.rename_axis('wines', axis='rows')\n",
    "\n",
    "# Check your answer\n",
    "q2.check()"
   ]
  },
  {
   "cell_type": "code",
   "execution_count": 6,
   "id": "hourly-enclosure",
   "metadata": {
    "execution": {
     "iopub.execute_input": "2021-05-09T04:43:50.215791Z",
     "iopub.status.busy": "2021-05-09T04:43:50.214884Z",
     "iopub.status.idle": "2021-05-09T04:43:50.218457Z",
     "shell.execute_reply": "2021-05-09T04:43:50.219039Z"
    },
    "papermill": {
     "duration": 0.024643,
     "end_time": "2021-05-09T04:43:50.219206",
     "exception": false,
     "start_time": "2021-05-09T04:43:50.194563",
     "status": "completed"
    },
    "tags": []
   },
   "outputs": [],
   "source": [
    "#q2.hint()\n",
    "#q2.solution()"
   ]
  },
  {
   "cell_type": "markdown",
   "id": "circular-stewart",
   "metadata": {
    "papermill": {
     "duration": 0.017198,
     "end_time": "2021-05-09T04:43:50.254106",
     "exception": false,
     "start_time": "2021-05-09T04:43:50.236908",
     "status": "completed"
    },
    "tags": []
   },
   "source": [
    "## 3.\n",
    "The [Things on Reddit](https://www.kaggle.com/residentmario/things-on-reddit/data) dataset includes product links from a selection of top-ranked forums (\"subreddits\") on reddit.com. Run the cell below to load a dataframe of products mentioned on the */r/gaming* subreddit and another dataframe for products mentioned on the *r//movies* subreddit."
   ]
  },
  {
   "cell_type": "code",
   "execution_count": 7,
   "id": "controlled-trailer",
   "metadata": {
    "execution": {
     "iopub.execute_input": "2021-05-09T04:43:50.294197Z",
     "iopub.status.busy": "2021-05-09T04:43:50.293209Z",
     "iopub.status.idle": "2021-05-09T04:43:50.308646Z",
     "shell.execute_reply": "2021-05-09T04:43:50.309163Z"
    },
    "papermill": {
     "duration": 0.036551,
     "end_time": "2021-05-09T04:43:50.309366",
     "exception": false,
     "start_time": "2021-05-09T04:43:50.272815",
     "status": "completed"
    },
    "tags": []
   },
   "outputs": [],
   "source": [
    "gaming_products = pd.read_csv(\"../input/things-on-reddit/top-things/top-things/reddits/g/gaming.csv\")\n",
    "gaming_products['subreddit'] = \"r/gaming\"\n",
    "movie_products = pd.read_csv(\"../input/things-on-reddit/top-things/top-things/reddits/m/movies.csv\")\n",
    "movie_products['subreddit'] = \"r/movies\""
   ]
  },
  {
   "cell_type": "markdown",
   "id": "local-filename",
   "metadata": {
    "papermill": {
     "duration": 0.017451,
     "end_time": "2021-05-09T04:43:50.345122",
     "exception": false,
     "start_time": "2021-05-09T04:43:50.327671",
     "status": "completed"
    },
    "tags": []
   },
   "source": [
    "Create a `DataFrame` of products mentioned on *either* subreddit."
   ]
  },
  {
   "cell_type": "code",
   "execution_count": 8,
   "id": "surrounded-jefferson",
   "metadata": {
    "execution": {
     "iopub.execute_input": "2021-05-09T04:43:50.384273Z",
     "iopub.status.busy": "2021-05-09T04:43:50.383338Z",
     "iopub.status.idle": "2021-05-09T04:43:50.398774Z",
     "shell.execute_reply": "2021-05-09T04:43:50.398175Z"
    },
    "papermill": {
     "duration": 0.036091,
     "end_time": "2021-05-09T04:43:50.398912",
     "exception": false,
     "start_time": "2021-05-09T04:43:50.362821",
     "status": "completed"
    },
    "tags": []
   },
   "outputs": [
    {
     "data": {
      "application/javascript": [
       "parent.postMessage({\"jupyterEvent\": \"custom.exercise_interaction\", \"data\": {\"outcomeType\": 1, \"valueTowardsCompletion\": 0.25, \"interactionType\": 1, \"questionType\": 2, \"questionId\": \"3_ConcatReddit\", \"learnToolsVersion\": \"0.3.4\", \"failureMessage\": \"\", \"exceptionClass\": \"\", \"trace\": \"\"}}, \"*\")"
      ],
      "text/plain": [
       "<IPython.core.display.Javascript object>"
      ]
     },
     "metadata": {},
     "output_type": "display_data"
    },
    {
     "data": {
      "text/markdown": [
       "<span style=\"color:#33cc33\">Correct</span>"
      ],
      "text/plain": [
       "Correct"
      ]
     },
     "metadata": {},
     "output_type": "display_data"
    }
   ],
   "source": [
    "combined_products = pd.concat([gaming_products, movie_products])\n",
    "\n",
    "# Check your answer\n",
    "q3.check()"
   ]
  },
  {
   "cell_type": "code",
   "execution_count": 9,
   "id": "local-background",
   "metadata": {
    "execution": {
     "iopub.execute_input": "2021-05-09T04:43:50.440876Z",
     "iopub.status.busy": "2021-05-09T04:43:50.440069Z",
     "iopub.status.idle": "2021-05-09T04:43:50.442471Z",
     "shell.execute_reply": "2021-05-09T04:43:50.442900Z"
    },
    "papermill": {
     "duration": 0.025267,
     "end_time": "2021-05-09T04:43:50.443063",
     "exception": false,
     "start_time": "2021-05-09T04:43:50.417796",
     "status": "completed"
    },
    "tags": []
   },
   "outputs": [],
   "source": [
    "#q3.hint()\n",
    "#q3.solution()"
   ]
  },
  {
   "cell_type": "markdown",
   "id": "theoretical-logic",
   "metadata": {
    "papermill": {
     "duration": 0.019063,
     "end_time": "2021-05-09T04:43:50.481414",
     "exception": false,
     "start_time": "2021-05-09T04:43:50.462351",
     "status": "completed"
    },
    "tags": []
   },
   "source": [
    "## 4.\n",
    "The [Powerlifting Database](https://www.kaggle.com/open-powerlifting/powerlifting-database) dataset on Kaggle includes one CSV table for powerlifting meets and a separate one for powerlifting competitors. Run the cell below to load these datasets into dataframes:"
   ]
  },
  {
   "cell_type": "code",
   "execution_count": 10,
   "id": "chubby-duplicate",
   "metadata": {
    "execution": {
     "iopub.execute_input": "2021-05-09T04:43:50.524477Z",
     "iopub.status.busy": "2021-05-09T04:43:50.523704Z",
     "iopub.status.idle": "2021-05-09T04:43:51.388647Z",
     "shell.execute_reply": "2021-05-09T04:43:51.388064Z"
    },
    "papermill": {
     "duration": 0.888352,
     "end_time": "2021-05-09T04:43:51.388787",
     "exception": false,
     "start_time": "2021-05-09T04:43:50.500435",
     "status": "completed"
    },
    "tags": []
   },
   "outputs": [],
   "source": [
    "powerlifting_meets = pd.read_csv(\"../input/powerlifting-database/meets.csv\")\n",
    "powerlifting_competitors = pd.read_csv(\"../input/powerlifting-database/openpowerlifting.csv\")"
   ]
  },
  {
   "cell_type": "markdown",
   "id": "secure-movement",
   "metadata": {
    "papermill": {
     "duration": 0.019503,
     "end_time": "2021-05-09T04:43:51.428015",
     "exception": false,
     "start_time": "2021-05-09T04:43:51.408512",
     "status": "completed"
    },
    "tags": []
   },
   "source": [
    "Both tables include references to a `MeetID`, a unique key for each meet (competition) included in the database. Using this, generate a dataset combining the two tables into one."
   ]
  },
  {
   "cell_type": "code",
   "execution_count": 11,
   "id": "minor-miracle",
   "metadata": {
    "execution": {
     "iopub.execute_input": "2021-05-09T04:43:51.474077Z",
     "iopub.status.busy": "2021-05-09T04:43:51.472668Z",
     "iopub.status.idle": "2021-05-09T04:43:52.798927Z",
     "shell.execute_reply": "2021-05-09T04:43:52.798445Z"
    },
    "papermill": {
     "duration": 1.352002,
     "end_time": "2021-05-09T04:43:52.799065",
     "exception": false,
     "start_time": "2021-05-09T04:43:51.447063",
     "status": "completed"
    },
    "tags": []
   },
   "outputs": [
    {
     "data": {
      "application/javascript": [
       "parent.postMessage({\"jupyterEvent\": \"custom.exercise_interaction\", \"data\": {\"outcomeType\": 1, \"valueTowardsCompletion\": 0.25, \"interactionType\": 1, \"questionType\": 2, \"questionId\": \"4_JoinLifting\", \"learnToolsVersion\": \"0.3.4\", \"failureMessage\": \"\", \"exceptionClass\": \"\", \"trace\": \"\"}}, \"*\")"
      ],
      "text/plain": [
       "<IPython.core.display.Javascript object>"
      ]
     },
     "metadata": {},
     "output_type": "display_data"
    },
    {
     "data": {
      "text/markdown": [
       "<span style=\"color:#33cc33\">Correct</span>"
      ],
      "text/plain": [
       "Correct"
      ]
     },
     "metadata": {},
     "output_type": "display_data"
    }
   ],
   "source": [
    "powerlifting_combined = powerlifting_meets.set_index(\"MeetID\").join(powerlifting_competitors.set_index(\"MeetID\"))\n",
    "\n",
    "# Check your answer\n",
    "q4.check()"
   ]
  },
  {
   "cell_type": "code",
   "execution_count": 12,
   "id": "informed-chosen",
   "metadata": {
    "execution": {
     "iopub.execute_input": "2021-05-09T04:43:52.845118Z",
     "iopub.status.busy": "2021-05-09T04:43:52.844172Z",
     "iopub.status.idle": "2021-05-09T04:43:52.846824Z",
     "shell.execute_reply": "2021-05-09T04:43:52.846212Z"
    },
    "papermill": {
     "duration": 0.027439,
     "end_time": "2021-05-09T04:43:52.846964",
     "exception": false,
     "start_time": "2021-05-09T04:43:52.819525",
     "status": "completed"
    },
    "tags": []
   },
   "outputs": [],
   "source": [
    "#q4.hint()\n",
    "#q4.solution()"
   ]
  },
  {
   "cell_type": "markdown",
   "id": "elegant-involvement",
   "metadata": {
    "papermill": {
     "duration": 0.02042,
     "end_time": "2021-05-09T04:43:52.888112",
     "exception": false,
     "start_time": "2021-05-09T04:43:52.867692",
     "status": "completed"
    },
    "tags": []
   },
   "source": [
    "# Congratulations!\n",
    "\n",
    "You've finished the Pandas micro-course.  Many data scientists feel efficiency with Pandas is the most useful and practical skill they have, because it allows you to progress quickly in any project you have.\n",
    "\n",
    "If you'd like to apply your new skills to examining geospatial data, you're encouraged to check out our **[Geospatial Analysis](https://www.kaggle.com/learn/geospatial-analysis)** micro-course.\n",
    "\n",
    "You can also take advantage of your Pandas skills by entering a **[Kaggle Competition](https://www.kaggle.com/competitions)** or by answering a question you find interesting using **[Kaggle Datasets](https://www.kaggle.com/datasets)**."
   ]
  },
  {
   "cell_type": "markdown",
   "id": "unlike-marketplace",
   "metadata": {
    "papermill": {
     "duration": 0.020205,
     "end_time": "2021-05-09T04:43:52.929077",
     "exception": false,
     "start_time": "2021-05-09T04:43:52.908872",
     "status": "completed"
    },
    "tags": []
   },
   "source": [
    "---\n",
    "\n",
    "\n",
    "\n",
    "\n",
    "*Have questions or comments? Visit the [Learn Discussion forum](https://www.kaggle.com/learn-forum/161299) to chat with other Learners.*"
   ]
  }
 ],
 "metadata": {
  "kernelspec": {
   "display_name": "Python 3",
   "language": "python",
   "name": "python3"
  },
  "language_info": {
   "codemirror_mode": {
    "name": "ipython",
    "version": 3
   },
   "file_extension": ".py",
   "mimetype": "text/x-python",
   "name": "python",
   "nbconvert_exporter": "python",
   "pygments_lexer": "ipython3",
   "version": "3.7.9"
  },
  "papermill": {
   "default_parameters": {},
   "duration": 14.265035,
   "end_time": "2021-05-09T04:43:53.659416",
   "environment_variables": {},
   "exception": null,
   "input_path": "__notebook__.ipynb",
   "output_path": "__notebook__.ipynb",
   "parameters": {},
   "start_time": "2021-05-09T04:43:39.394381",
   "version": "2.3.2"
  }
 },
 "nbformat": 4,
 "nbformat_minor": 5
}
