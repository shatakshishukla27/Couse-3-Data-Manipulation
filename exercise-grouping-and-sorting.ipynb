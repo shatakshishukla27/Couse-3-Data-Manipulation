{
 "cells": [
  {
   "cell_type": "markdown",
   "id": "demonstrated-florida",
   "metadata": {
    "papermill": {
     "duration": 0.012165,
     "end_time": "2021-05-09T04:40:03.313431",
     "exception": false,
     "start_time": "2021-05-09T04:40:03.301266",
     "status": "completed"
    },
    "tags": []
   },
   "source": [
    "**This notebook is an exercise in the [Pandas](https://www.kaggle.com/learn/pandas) course.  You can reference the tutorial at [this link](https://www.kaggle.com/residentmario/grouping-and-sorting).**\n",
    "\n",
    "---\n"
   ]
  },
  {
   "cell_type": "markdown",
   "id": "industrial-stamp",
   "metadata": {
    "papermill": {
     "duration": 0.011477,
     "end_time": "2021-05-09T04:40:03.336642",
     "exception": false,
     "start_time": "2021-05-09T04:40:03.325165",
     "status": "completed"
    },
    "tags": []
   },
   "source": [
    "# Introduction\n",
    "\n",
    "In these exercises we'll apply groupwise analysis to our dataset.\n",
    "\n",
    "Run the code cell below to load the data before running the exercises."
   ]
  },
  {
   "cell_type": "code",
   "execution_count": 1,
   "id": "amateur-cement",
   "metadata": {
    "execution": {
     "iopub.execute_input": "2021-05-09T04:40:03.363506Z",
     "iopub.status.busy": "2021-05-09T04:40:03.362908Z",
     "iopub.status.idle": "2021-05-09T04:40:06.163879Z",
     "shell.execute_reply": "2021-05-09T04:40:06.163156Z"
    },
    "papermill": {
     "duration": 2.816125,
     "end_time": "2021-05-09T04:40:06.164034",
     "exception": false,
     "start_time": "2021-05-09T04:40:03.347909",
     "status": "completed"
    },
    "tags": []
   },
   "outputs": [
    {
     "name": "stdout",
     "output_type": "stream",
     "text": [
      "Setup complete.\n"
     ]
    }
   ],
   "source": [
    "import pandas as pd\n",
    "\n",
    "reviews = pd.read_csv(\"../input/wine-reviews/winemag-data-130k-v2.csv\", index_col=0)\n",
    "#pd.set_option(\"display.max_rows\", 5)\n",
    "\n",
    "from learntools.core import binder; binder.bind(globals())\n",
    "from learntools.pandas.grouping_and_sorting import *\n",
    "print(\"Setup complete.\")"
   ]
  },
  {
   "cell_type": "markdown",
   "id": "cordless-hygiene",
   "metadata": {
    "papermill": {
     "duration": 0.011382,
     "end_time": "2021-05-09T04:40:06.190499",
     "exception": false,
     "start_time": "2021-05-09T04:40:06.179117",
     "status": "completed"
    },
    "tags": []
   },
   "source": [
    "# Exercises"
   ]
  },
  {
   "cell_type": "markdown",
   "id": "biological-christopher",
   "metadata": {
    "papermill": {
     "duration": 0.011166,
     "end_time": "2021-05-09T04:40:06.213211",
     "exception": false,
     "start_time": "2021-05-09T04:40:06.202045",
     "status": "completed"
    },
    "tags": []
   },
   "source": [
    "## 1.\n",
    "Who are the most common wine reviewers in the dataset? Create a `Series` whose index is the `taster_twitter_handle` category from the dataset, and whose values count how many reviews each person wrote."
   ]
  },
  {
   "cell_type": "code",
   "execution_count": 2,
   "id": "elect-prairie",
   "metadata": {
    "execution": {
     "iopub.execute_input": "2021-05-09T04:40:06.251888Z",
     "iopub.status.busy": "2021-05-09T04:40:06.250971Z",
     "iopub.status.idle": "2021-05-09T04:40:06.262152Z",
     "shell.execute_reply": "2021-05-09T04:40:06.261536Z"
    },
    "papermill": {
     "duration": 0.036865,
     "end_time": "2021-05-09T04:40:06.262289",
     "exception": false,
     "start_time": "2021-05-09T04:40:06.225424",
     "status": "completed"
    },
    "tags": []
   },
   "outputs": [
    {
     "data": {
      "application/javascript": [
       "parent.postMessage({\"jupyterEvent\": \"custom.exercise_interaction\", \"data\": {\"outcomeType\": 1, \"valueTowardsCompletion\": 0.16666666666666666, \"interactionType\": 1, \"questionType\": 1, \"questionId\": \"1_ReviewsWritten\", \"learnToolsVersion\": \"0.3.4\", \"failureMessage\": \"\", \"exceptionClass\": \"\", \"trace\": \"\"}}, \"*\")"
      ],
      "text/plain": [
       "<IPython.core.display.Javascript object>"
      ]
     },
     "metadata": {},
     "output_type": "display_data"
    },
    {
     "data": {
      "text/markdown": [
       "<span style=\"color:#33cc33\">Correct:</span> \n",
       "\n",
       "\n",
       "```python\n",
       "reviews_written = reviews.groupby('taster_twitter_handle').size()\n",
       "```\n",
       "or\n",
       "```python\n",
       "reviews_written = reviews.groupby('taster_twitter_handle').taster_twitter_handle.count()\n",
       "```\n"
      ],
      "text/plain": [
       "Correct: \n",
       "\n",
       "\n",
       "```python\n",
       "reviews_written = reviews.groupby('taster_twitter_handle').size()\n",
       "```\n",
       "or\n",
       "```python\n",
       "reviews_written = reviews.groupby('taster_twitter_handle').taster_twitter_handle.count()\n",
       "```"
      ]
     },
     "metadata": {},
     "output_type": "display_data"
    }
   ],
   "source": [
    "# Your code here\n",
    "reviews_written = reviews.groupby('taster_twitter_handle').size()\n",
    "\n",
    "# Check your answer\n",
    "q1.check()"
   ]
  },
  {
   "cell_type": "code",
   "execution_count": 3,
   "id": "indonesian-shanghai",
   "metadata": {
    "execution": {
     "iopub.execute_input": "2021-05-09T04:40:06.298725Z",
     "iopub.status.busy": "2021-05-09T04:40:06.298016Z",
     "iopub.status.idle": "2021-05-09T04:40:06.302191Z",
     "shell.execute_reply": "2021-05-09T04:40:06.301313Z"
    },
    "papermill": {
     "duration": 0.024362,
     "end_time": "2021-05-09T04:40:06.302400",
     "exception": false,
     "start_time": "2021-05-09T04:40:06.278038",
     "status": "completed"
    },
    "tags": []
   },
   "outputs": [],
   "source": [
    "#q1.hint()\n",
    "#q1.solution()"
   ]
  },
  {
   "cell_type": "markdown",
   "id": "relevant-lucas",
   "metadata": {
    "papermill": {
     "duration": 0.018211,
     "end_time": "2021-05-09T04:40:06.339053",
     "exception": false,
     "start_time": "2021-05-09T04:40:06.320842",
     "status": "completed"
    },
    "tags": []
   },
   "source": [
    "## 2.\n",
    "What is the best wine I can buy for a given amount of money? Create a `Series` whose index is wine prices and whose values is the maximum number of points a wine costing that much was given in a review. Sort the values by price, ascending (so that `4.0` dollars is at the top and `3300.0` dollars is at the bottom)."
   ]
  },
  {
   "cell_type": "code",
   "execution_count": 4,
   "id": "unable-county",
   "metadata": {
    "execution": {
     "iopub.execute_input": "2021-05-09T04:40:06.377393Z",
     "iopub.status.busy": "2021-05-09T04:40:06.376815Z",
     "iopub.status.idle": "2021-05-09T04:40:06.386354Z",
     "shell.execute_reply": "2021-05-09T04:40:06.385938Z"
    },
    "papermill": {
     "duration": 0.032334,
     "end_time": "2021-05-09T04:40:06.386496",
     "exception": false,
     "start_time": "2021-05-09T04:40:06.354162",
     "status": "completed"
    },
    "tags": []
   },
   "outputs": [
    {
     "data": {
      "application/javascript": [
       "parent.postMessage({\"jupyterEvent\": \"custom.exercise_interaction\", \"data\": {\"outcomeType\": 1, \"valueTowardsCompletion\": 0.16666666666666666, \"interactionType\": 1, \"questionType\": 1, \"questionId\": \"2_BestRatingPerPrice\", \"learnToolsVersion\": \"0.3.4\", \"failureMessage\": \"\", \"exceptionClass\": \"\", \"trace\": \"\"}}, \"*\")"
      ],
      "text/plain": [
       "<IPython.core.display.Javascript object>"
      ]
     },
     "metadata": {},
     "output_type": "display_data"
    },
    {
     "data": {
      "text/markdown": [
       "<span style=\"color:#33cc33\">Correct</span>"
      ],
      "text/plain": [
       "Correct"
      ]
     },
     "metadata": {},
     "output_type": "display_data"
    }
   ],
   "source": [
    "best_rating_per_price = reviews.groupby('price')['points'].max().sort_index()\n",
    "\n",
    "# Check your answer\n",
    "q2.check()"
   ]
  },
  {
   "cell_type": "code",
   "execution_count": 5,
   "id": "streaming-entrepreneur",
   "metadata": {
    "execution": {
     "iopub.execute_input": "2021-05-09T04:40:06.418076Z",
     "iopub.status.busy": "2021-05-09T04:40:06.417428Z",
     "iopub.status.idle": "2021-05-09T04:40:06.420066Z",
     "shell.execute_reply": "2021-05-09T04:40:06.419579Z"
    },
    "papermill": {
     "duration": 0.019391,
     "end_time": "2021-05-09T04:40:06.420191",
     "exception": false,
     "start_time": "2021-05-09T04:40:06.400800",
     "status": "completed"
    },
    "tags": []
   },
   "outputs": [],
   "source": [
    "#q2.hint()\n",
    "#q2.solution()"
   ]
  },
  {
   "cell_type": "markdown",
   "id": "serious-ozone",
   "metadata": {
    "papermill": {
     "duration": 0.01298,
     "end_time": "2021-05-09T04:40:06.446806",
     "exception": false,
     "start_time": "2021-05-09T04:40:06.433826",
     "status": "completed"
    },
    "tags": []
   },
   "source": [
    "## 3.\n",
    "What are the minimum and maximum prices for each `variety` of wine? Create a `DataFrame` whose index is the `variety` category from the dataset and whose values are the `min` and `max` values thereof."
   ]
  },
  {
   "cell_type": "code",
   "execution_count": 6,
   "id": "mighty-number",
   "metadata": {
    "execution": {
     "iopub.execute_input": "2021-05-09T04:40:06.476380Z",
     "iopub.status.busy": "2021-05-09T04:40:06.475838Z",
     "iopub.status.idle": "2021-05-09T04:40:06.501165Z",
     "shell.execute_reply": "2021-05-09T04:40:06.501548Z"
    },
    "papermill": {
     "duration": 0.041555,
     "end_time": "2021-05-09T04:40:06.501737",
     "exception": false,
     "start_time": "2021-05-09T04:40:06.460182",
     "status": "completed"
    },
    "tags": []
   },
   "outputs": [
    {
     "data": {
      "application/javascript": [
       "parent.postMessage({\"jupyterEvent\": \"custom.exercise_interaction\", \"data\": {\"outcomeType\": 1, \"valueTowardsCompletion\": 0.16666666666666666, \"interactionType\": 1, \"questionType\": 1, \"questionId\": \"3_PriceExtremes\", \"learnToolsVersion\": \"0.3.4\", \"failureMessage\": \"\", \"exceptionClass\": \"\", \"trace\": \"\"}}, \"*\")"
      ],
      "text/plain": [
       "<IPython.core.display.Javascript object>"
      ]
     },
     "metadata": {},
     "output_type": "display_data"
    },
    {
     "data": {
      "text/markdown": [
       "<span style=\"color:#33cc33\">Correct</span>"
      ],
      "text/plain": [
       "Correct"
      ]
     },
     "metadata": {},
     "output_type": "display_data"
    }
   ],
   "source": [
    "price_extremes = reviews.groupby('variety').price.agg([min, max])\n",
    "\n",
    "# Check your answer\n",
    "q3.check()"
   ]
  },
  {
   "cell_type": "code",
   "execution_count": 7,
   "id": "conservative-sullivan",
   "metadata": {
    "execution": {
     "iopub.execute_input": "2021-05-09T04:40:06.534498Z",
     "iopub.status.busy": "2021-05-09T04:40:06.533611Z",
     "iopub.status.idle": "2021-05-09T04:40:06.536448Z",
     "shell.execute_reply": "2021-05-09T04:40:06.536933Z"
    },
    "papermill": {
     "duration": 0.021119,
     "end_time": "2021-05-09T04:40:06.537097",
     "exception": false,
     "start_time": "2021-05-09T04:40:06.515978",
     "status": "completed"
    },
    "tags": []
   },
   "outputs": [],
   "source": [
    "#q3.hint()\n",
    "#q3.solution()"
   ]
  },
  {
   "cell_type": "markdown",
   "id": "instructional-jewel",
   "metadata": {
    "papermill": {
     "duration": 0.014431,
     "end_time": "2021-05-09T04:40:06.565893",
     "exception": false,
     "start_time": "2021-05-09T04:40:06.551462",
     "status": "completed"
    },
    "tags": []
   },
   "source": [
    "## 4.\n",
    "What are the most expensive wine varieties? Create a variable `sorted_varieties` containing a copy of the dataframe from the previous question where varieties are sorted in descending order based on minimum price, then on maximum price (to break ties)."
   ]
  },
  {
   "cell_type": "code",
   "execution_count": 8,
   "id": "latest-morocco",
   "metadata": {
    "execution": {
     "iopub.execute_input": "2021-05-09T04:40:06.602244Z",
     "iopub.status.busy": "2021-05-09T04:40:06.601631Z",
     "iopub.status.idle": "2021-05-09T04:40:06.607527Z",
     "shell.execute_reply": "2021-05-09T04:40:06.607945Z"
    },
    "papermill": {
     "duration": 0.026559,
     "end_time": "2021-05-09T04:40:06.608100",
     "exception": false,
     "start_time": "2021-05-09T04:40:06.581541",
     "status": "completed"
    },
    "tags": []
   },
   "outputs": [
    {
     "data": {
      "application/javascript": [
       "parent.postMessage({\"jupyterEvent\": \"custom.exercise_interaction\", \"data\": {\"outcomeType\": 1, \"valueTowardsCompletion\": 0.16666666666666666, \"interactionType\": 1, \"questionType\": 1, \"questionId\": \"4_SortedVarieties\", \"learnToolsVersion\": \"0.3.4\", \"failureMessage\": \"\", \"exceptionClass\": \"\", \"trace\": \"\"}}, \"*\")"
      ],
      "text/plain": [
       "<IPython.core.display.Javascript object>"
      ]
     },
     "metadata": {},
     "output_type": "display_data"
    },
    {
     "data": {
      "text/markdown": [
       "<span style=\"color:#33cc33\">Correct</span>"
      ],
      "text/plain": [
       "Correct"
      ]
     },
     "metadata": {},
     "output_type": "display_data"
    }
   ],
   "source": [
    "sorted_varieties = price_extremes.sort_values(by=['min', 'max'], ascending=False)\n",
    "\n",
    "# Check your answer\n",
    "q4.check()"
   ]
  },
  {
   "cell_type": "code",
   "execution_count": 9,
   "id": "ordered-pacific",
   "metadata": {
    "execution": {
     "iopub.execute_input": "2021-05-09T04:40:06.642601Z",
     "iopub.status.busy": "2021-05-09T04:40:06.641758Z",
     "iopub.status.idle": "2021-05-09T04:40:06.645231Z",
     "shell.execute_reply": "2021-05-09T04:40:06.644687Z"
    },
    "papermill": {
     "duration": 0.022191,
     "end_time": "2021-05-09T04:40:06.645357",
     "exception": false,
     "start_time": "2021-05-09T04:40:06.623166",
     "status": "completed"
    },
    "tags": []
   },
   "outputs": [],
   "source": [
    "#q4.hint()\n",
    "#q4.solution()"
   ]
  },
  {
   "cell_type": "markdown",
   "id": "front-melbourne",
   "metadata": {
    "papermill": {
     "duration": 0.014883,
     "end_time": "2021-05-09T04:40:06.675608",
     "exception": false,
     "start_time": "2021-05-09T04:40:06.660725",
     "status": "completed"
    },
    "tags": []
   },
   "source": [
    "## 5.\n",
    "Create a `Series` whose index is reviewers and whose values is the average review score given out by that reviewer. Hint: you will need the `taster_name` and `points` columns."
   ]
  },
  {
   "cell_type": "code",
   "execution_count": 10,
   "id": "informed-lighter",
   "metadata": {
    "execution": {
     "iopub.execute_input": "2021-05-09T04:40:06.718852Z",
     "iopub.status.busy": "2021-05-09T04:40:06.718237Z",
     "iopub.status.idle": "2021-05-09T04:40:06.726247Z",
     "shell.execute_reply": "2021-05-09T04:40:06.725764Z"
    },
    "papermill": {
     "duration": 0.03545,
     "end_time": "2021-05-09T04:40:06.726376",
     "exception": false,
     "start_time": "2021-05-09T04:40:06.690926",
     "status": "completed"
    },
    "tags": []
   },
   "outputs": [
    {
     "data": {
      "application/javascript": [
       "parent.postMessage({\"jupyterEvent\": \"custom.exercise_interaction\", \"data\": {\"outcomeType\": 1, \"valueTowardsCompletion\": 0.16666666666666666, \"interactionType\": 1, \"questionType\": 1, \"questionId\": \"5_ReviewerMeanRatings\", \"learnToolsVersion\": \"0.3.4\", \"failureMessage\": \"\", \"exceptionClass\": \"\", \"trace\": \"\"}}, \"*\")"
      ],
      "text/plain": [
       "<IPython.core.display.Javascript object>"
      ]
     },
     "metadata": {},
     "output_type": "display_data"
    },
    {
     "data": {
      "text/markdown": [
       "<span style=\"color:#33cc33\">Correct</span>"
      ],
      "text/plain": [
       "Correct"
      ]
     },
     "metadata": {},
     "output_type": "display_data"
    }
   ],
   "source": [
    "reviewer_mean_ratings = reviews.groupby('taster_name').points.mean()\n",
    "\n",
    "# Check your answer\n",
    "q5.check()"
   ]
  },
  {
   "cell_type": "code",
   "execution_count": 11,
   "id": "willing-payroll",
   "metadata": {
    "execution": {
     "iopub.execute_input": "2021-05-09T04:40:06.761607Z",
     "iopub.status.busy": "2021-05-09T04:40:06.761032Z",
     "iopub.status.idle": "2021-05-09T04:40:06.763942Z",
     "shell.execute_reply": "2021-05-09T04:40:06.764383Z"
    },
    "papermill": {
     "duration": 0.021993,
     "end_time": "2021-05-09T04:40:06.764542",
     "exception": false,
     "start_time": "2021-05-09T04:40:06.742549",
     "status": "completed"
    },
    "tags": []
   },
   "outputs": [],
   "source": [
    "#q5.hint()\n",
    "#q5.solution()"
   ]
  },
  {
   "cell_type": "markdown",
   "id": "constitutional-transsexual",
   "metadata": {
    "papermill": {
     "duration": 0.015617,
     "end_time": "2021-05-09T04:40:06.796335",
     "exception": false,
     "start_time": "2021-05-09T04:40:06.780718",
     "status": "completed"
    },
    "tags": []
   },
   "source": [
    "Are there significant differences in the average scores assigned by the various reviewers? Run the cell below to use the `describe()` method to see a summary of the range of values."
   ]
  },
  {
   "cell_type": "code",
   "execution_count": 12,
   "id": "alpha-prize",
   "metadata": {
    "execution": {
     "iopub.execute_input": "2021-05-09T04:40:06.831904Z",
     "iopub.status.busy": "2021-05-09T04:40:06.831267Z",
     "iopub.status.idle": "2021-05-09T04:40:06.843917Z",
     "shell.execute_reply": "2021-05-09T04:40:06.844450Z"
    },
    "papermill": {
     "duration": 0.03176,
     "end_time": "2021-05-09T04:40:06.844635",
     "exception": false,
     "start_time": "2021-05-09T04:40:06.812875",
     "status": "completed"
    },
    "tags": []
   },
   "outputs": [
    {
     "data": {
      "text/plain": [
       "count    19.000000\n",
       "mean     88.233026\n",
       "std       1.243610\n",
       "min      85.855422\n",
       "25%      87.323501\n",
       "50%      88.536235\n",
       "75%      88.975256\n",
       "max      90.562551\n",
       "Name: points, dtype: float64"
      ]
     },
     "execution_count": 12,
     "metadata": {},
     "output_type": "execute_result"
    }
   ],
   "source": [
    "reviewer_mean_ratings.describe()"
   ]
  },
  {
   "cell_type": "markdown",
   "id": "environmental-supervision",
   "metadata": {
    "papermill": {
     "duration": 0.016127,
     "end_time": "2021-05-09T04:40:06.877596",
     "exception": false,
     "start_time": "2021-05-09T04:40:06.861469",
     "status": "completed"
    },
    "tags": []
   },
   "source": [
    "## 6.\n",
    "What combination of countries and varieties are most common? Create a `Series` whose index is a `MultiIndex`of `{country, variety}` pairs. For example, a pinot noir produced in the US should map to `{\"US\", \"Pinot Noir\"}`. Sort the values in the `Series` in descending order based on wine count."
   ]
  },
  {
   "cell_type": "code",
   "execution_count": 13,
   "id": "gross-context",
   "metadata": {
    "execution": {
     "iopub.execute_input": "2021-05-09T04:40:06.914588Z",
     "iopub.status.busy": "2021-05-09T04:40:06.913705Z",
     "iopub.status.idle": "2021-05-09T04:40:06.944955Z",
     "shell.execute_reply": "2021-05-09T04:40:06.945435Z"
    },
    "papermill": {
     "duration": 0.051559,
     "end_time": "2021-05-09T04:40:06.945597",
     "exception": false,
     "start_time": "2021-05-09T04:40:06.894038",
     "status": "completed"
    },
    "tags": []
   },
   "outputs": [
    {
     "data": {
      "application/javascript": [
       "parent.postMessage({\"jupyterEvent\": \"custom.exercise_interaction\", \"data\": {\"outcomeType\": 1, \"valueTowardsCompletion\": 0.16666666666666666, \"interactionType\": 1, \"questionType\": 1, \"questionId\": \"6_GroupbyCountryVariety\", \"learnToolsVersion\": \"0.3.4\", \"failureMessage\": \"\", \"exceptionClass\": \"\", \"trace\": \"\"}}, \"*\")"
      ],
      "text/plain": [
       "<IPython.core.display.Javascript object>"
      ]
     },
     "metadata": {},
     "output_type": "display_data"
    },
    {
     "data": {
      "text/markdown": [
       "<span style=\"color:#33cc33\">Correct</span>"
      ],
      "text/plain": [
       "Correct"
      ]
     },
     "metadata": {},
     "output_type": "display_data"
    }
   ],
   "source": [
    "country_variety_counts = reviews.groupby(['country', 'variety']).size().sort_values(ascending=False)\n",
    "\n",
    "# Check your answer\n",
    "q6.check()"
   ]
  },
  {
   "cell_type": "code",
   "execution_count": 14,
   "id": "disciplinary-construction",
   "metadata": {
    "execution": {
     "iopub.execute_input": "2021-05-09T04:40:06.983602Z",
     "iopub.status.busy": "2021-05-09T04:40:06.982720Z",
     "iopub.status.idle": "2021-05-09T04:40:06.986197Z",
     "shell.execute_reply": "2021-05-09T04:40:06.986677Z"
    },
    "papermill": {
     "duration": 0.024107,
     "end_time": "2021-05-09T04:40:06.986839",
     "exception": false,
     "start_time": "2021-05-09T04:40:06.962732",
     "status": "completed"
    },
    "tags": []
   },
   "outputs": [],
   "source": [
    "#q6.hint()\n",
    "#q6.solution()"
   ]
  },
  {
   "cell_type": "markdown",
   "id": "freelance-rotation",
   "metadata": {
    "papermill": {
     "duration": 0.017168,
     "end_time": "2021-05-09T04:40:07.022121",
     "exception": false,
     "start_time": "2021-05-09T04:40:07.004953",
     "status": "completed"
    },
    "tags": []
   },
   "source": [
    "# Keep going\n",
    "\n",
    "Move on to the [**data types and missing data**](https://www.kaggle.com/residentmario/data-types-and-missing-values)."
   ]
  },
  {
   "cell_type": "markdown",
   "id": "functioning-arnold",
   "metadata": {
    "papermill": {
     "duration": 0.017703,
     "end_time": "2021-05-09T04:40:07.057245",
     "exception": false,
     "start_time": "2021-05-09T04:40:07.039542",
     "status": "completed"
    },
    "tags": []
   },
   "source": [
    "---\n",
    "\n",
    "\n",
    "\n",
    "\n",
    "*Have questions or comments? Visit the [Learn Discussion forum](https://www.kaggle.com/learn-forum/161299) to chat with other Learners.*"
   ]
  }
 ],
 "metadata": {
  "kernelspec": {
   "display_name": "Python 3",
   "language": "python",
   "name": "python3"
  },
  "language_info": {
   "codemirror_mode": {
    "name": "ipython",
    "version": 3
   },
   "file_extension": ".py",
   "mimetype": "text/x-python",
   "name": "python",
   "nbconvert_exporter": "python",
   "pygments_lexer": "ipython3",
   "version": "3.7.9"
  },
  "papermill": {
   "default_parameters": {},
   "duration": 10.195106,
   "end_time": "2021-05-09T04:40:07.683214",
   "environment_variables": {},
   "exception": null,
   "input_path": "__notebook__.ipynb",
   "output_path": "__notebook__.ipynb",
   "parameters": {},
   "start_time": "2021-05-09T04:39:57.488108",
   "version": "2.3.2"
  }
 },
 "nbformat": 4,
 "nbformat_minor": 5
}
