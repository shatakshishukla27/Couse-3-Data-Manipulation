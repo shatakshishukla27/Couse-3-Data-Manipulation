{
 "cells": [
  {
   "cell_type": "markdown",
   "id": "fantastic-yahoo",
   "metadata": {
    "papermill": {
     "duration": 0.017485,
     "end_time": "2021-05-09T04:34:30.569903",
     "exception": false,
     "start_time": "2021-05-09T04:34:30.552418",
     "status": "completed"
    },
    "tags": []
   },
   "source": [
    "**This notebook is an exercise in the [Pandas](https://www.kaggle.com/learn/pandas) course.  You can reference the tutorial at [this link](https://www.kaggle.com/residentmario/summary-functions-and-maps).**\n",
    "\n",
    "---\n"
   ]
  },
  {
   "cell_type": "markdown",
   "id": "hired-hypothetical",
   "metadata": {
    "papermill": {
     "duration": 0.015885,
     "end_time": "2021-05-09T04:34:30.602299",
     "exception": false,
     "start_time": "2021-05-09T04:34:30.586414",
     "status": "completed"
    },
    "tags": []
   },
   "source": [
    "# Introduction\n",
    "\n",
    "Now you are ready to get a deeper understanding of your data.\n",
    "\n",
    "Run the following cell to load your data and some utility functions (including code to check your answers)."
   ]
  },
  {
   "cell_type": "code",
   "execution_count": 1,
   "id": "global-equipment",
   "metadata": {
    "execution": {
     "iopub.execute_input": "2021-05-09T04:34:30.641787Z",
     "iopub.status.busy": "2021-05-09T04:34:30.641184Z",
     "iopub.status.idle": "2021-05-09T04:34:38.825243Z",
     "shell.execute_reply": "2021-05-09T04:34:38.825830Z"
    },
    "papermill": {
     "duration": 8.207509,
     "end_time": "2021-05-09T04:34:38.826119",
     "exception": false,
     "start_time": "2021-05-09T04:34:30.618610",
     "status": "completed"
    },
    "tags": []
   },
   "outputs": [
    {
     "name": "stdout",
     "output_type": "stream",
     "text": [
      "Setup complete.\n"
     ]
    },
    {
     "data": {
      "text/html": [
       "<div>\n",
       "<style scoped>\n",
       "    .dataframe tbody tr th:only-of-type {\n",
       "        vertical-align: middle;\n",
       "    }\n",
       "\n",
       "    .dataframe tbody tr th {\n",
       "        vertical-align: top;\n",
       "    }\n",
       "\n",
       "    .dataframe thead th {\n",
       "        text-align: right;\n",
       "    }\n",
       "</style>\n",
       "<table border=\"1\" class=\"dataframe\">\n",
       "  <thead>\n",
       "    <tr style=\"text-align: right;\">\n",
       "      <th></th>\n",
       "      <th>country</th>\n",
       "      <th>description</th>\n",
       "      <th>designation</th>\n",
       "      <th>points</th>\n",
       "      <th>price</th>\n",
       "      <th>province</th>\n",
       "      <th>region_1</th>\n",
       "      <th>region_2</th>\n",
       "      <th>taster_name</th>\n",
       "      <th>taster_twitter_handle</th>\n",
       "      <th>title</th>\n",
       "      <th>variety</th>\n",
       "      <th>winery</th>\n",
       "    </tr>\n",
       "  </thead>\n",
       "  <tbody>\n",
       "    <tr>\n",
       "      <th>0</th>\n",
       "      <td>Italy</td>\n",
       "      <td>Aromas include tropical fruit, broom, brimston...</td>\n",
       "      <td>Vulkà Bianco</td>\n",
       "      <td>87</td>\n",
       "      <td>NaN</td>\n",
       "      <td>Sicily &amp; Sardinia</td>\n",
       "      <td>Etna</td>\n",
       "      <td>NaN</td>\n",
       "      <td>Kerin O’Keefe</td>\n",
       "      <td>@kerinokeefe</td>\n",
       "      <td>Nicosia 2013 Vulkà Bianco  (Etna)</td>\n",
       "      <td>White Blend</td>\n",
       "      <td>Nicosia</td>\n",
       "    </tr>\n",
       "    <tr>\n",
       "      <th>1</th>\n",
       "      <td>Portugal</td>\n",
       "      <td>This is ripe and fruity, a wine that is smooth...</td>\n",
       "      <td>Avidagos</td>\n",
       "      <td>87</td>\n",
       "      <td>15.0</td>\n",
       "      <td>Douro</td>\n",
       "      <td>NaN</td>\n",
       "      <td>NaN</td>\n",
       "      <td>Roger Voss</td>\n",
       "      <td>@vossroger</td>\n",
       "      <td>Quinta dos Avidagos 2011 Avidagos Red (Douro)</td>\n",
       "      <td>Portuguese Red</td>\n",
       "      <td>Quinta dos Avidagos</td>\n",
       "    </tr>\n",
       "    <tr>\n",
       "      <th>2</th>\n",
       "      <td>US</td>\n",
       "      <td>Tart and snappy, the flavors of lime flesh and...</td>\n",
       "      <td>NaN</td>\n",
       "      <td>87</td>\n",
       "      <td>14.0</td>\n",
       "      <td>Oregon</td>\n",
       "      <td>Willamette Valley</td>\n",
       "      <td>Willamette Valley</td>\n",
       "      <td>Paul Gregutt</td>\n",
       "      <td>@paulgwine</td>\n",
       "      <td>Rainstorm 2013 Pinot Gris (Willamette Valley)</td>\n",
       "      <td>Pinot Gris</td>\n",
       "      <td>Rainstorm</td>\n",
       "    </tr>\n",
       "    <tr>\n",
       "      <th>3</th>\n",
       "      <td>US</td>\n",
       "      <td>Pineapple rind, lemon pith and orange blossom ...</td>\n",
       "      <td>Reserve Late Harvest</td>\n",
       "      <td>87</td>\n",
       "      <td>13.0</td>\n",
       "      <td>Michigan</td>\n",
       "      <td>Lake Michigan Shore</td>\n",
       "      <td>NaN</td>\n",
       "      <td>Alexander Peartree</td>\n",
       "      <td>NaN</td>\n",
       "      <td>St. Julian 2013 Reserve Late Harvest Riesling ...</td>\n",
       "      <td>Riesling</td>\n",
       "      <td>St. Julian</td>\n",
       "    </tr>\n",
       "    <tr>\n",
       "      <th>4</th>\n",
       "      <td>US</td>\n",
       "      <td>Much like the regular bottling from 2012, this...</td>\n",
       "      <td>Vintner's Reserve Wild Child Block</td>\n",
       "      <td>87</td>\n",
       "      <td>65.0</td>\n",
       "      <td>Oregon</td>\n",
       "      <td>Willamette Valley</td>\n",
       "      <td>Willamette Valley</td>\n",
       "      <td>Paul Gregutt</td>\n",
       "      <td>@paulgwine</td>\n",
       "      <td>Sweet Cheeks 2012 Vintner's Reserve Wild Child...</td>\n",
       "      <td>Pinot Noir</td>\n",
       "      <td>Sweet Cheeks</td>\n",
       "    </tr>\n",
       "  </tbody>\n",
       "</table>\n",
       "</div>"
      ],
      "text/plain": [
       "    country                                        description  \\\n",
       "0     Italy  Aromas include tropical fruit, broom, brimston...   \n",
       "1  Portugal  This is ripe and fruity, a wine that is smooth...   \n",
       "2        US  Tart and snappy, the flavors of lime flesh and...   \n",
       "3        US  Pineapple rind, lemon pith and orange blossom ...   \n",
       "4        US  Much like the regular bottling from 2012, this...   \n",
       "\n",
       "                          designation  points  price           province  \\\n",
       "0                        Vulkà Bianco      87    NaN  Sicily & Sardinia   \n",
       "1                            Avidagos      87   15.0              Douro   \n",
       "2                                 NaN      87   14.0             Oregon   \n",
       "3                Reserve Late Harvest      87   13.0           Michigan   \n",
       "4  Vintner's Reserve Wild Child Block      87   65.0             Oregon   \n",
       "\n",
       "              region_1           region_2         taster_name  \\\n",
       "0                 Etna                NaN       Kerin O’Keefe   \n",
       "1                  NaN                NaN          Roger Voss   \n",
       "2    Willamette Valley  Willamette Valley        Paul Gregutt   \n",
       "3  Lake Michigan Shore                NaN  Alexander Peartree   \n",
       "4    Willamette Valley  Willamette Valley        Paul Gregutt   \n",
       "\n",
       "  taster_twitter_handle                                              title  \\\n",
       "0          @kerinokeefe                  Nicosia 2013 Vulkà Bianco  (Etna)   \n",
       "1            @vossroger      Quinta dos Avidagos 2011 Avidagos Red (Douro)   \n",
       "2           @paulgwine       Rainstorm 2013 Pinot Gris (Willamette Valley)   \n",
       "3                   NaN  St. Julian 2013 Reserve Late Harvest Riesling ...   \n",
       "4           @paulgwine   Sweet Cheeks 2012 Vintner's Reserve Wild Child...   \n",
       "\n",
       "          variety               winery  \n",
       "0     White Blend              Nicosia  \n",
       "1  Portuguese Red  Quinta dos Avidagos  \n",
       "2      Pinot Gris            Rainstorm  \n",
       "3        Riesling           St. Julian  \n",
       "4      Pinot Noir         Sweet Cheeks  "
      ]
     },
     "execution_count": 1,
     "metadata": {},
     "output_type": "execute_result"
    }
   ],
   "source": [
    "import pandas as pd\n",
    "pd.set_option(\"display.max_rows\", 5)\n",
    "reviews = pd.read_csv(\"../input/wine-reviews/winemag-data-130k-v2.csv\", index_col=0)\n",
    "\n",
    "from learntools.core import binder; binder.bind(globals())\n",
    "from learntools.pandas.summary_functions_and_maps import *\n",
    "print(\"Setup complete.\")\n",
    "\n",
    "reviews.head()"
   ]
  },
  {
   "cell_type": "markdown",
   "id": "ethical-silver",
   "metadata": {
    "papermill": {
     "duration": 0.016896,
     "end_time": "2021-05-09T04:34:38.861202",
     "exception": false,
     "start_time": "2021-05-09T04:34:38.844306",
     "status": "completed"
    },
    "tags": []
   },
   "source": [
    "# Exercises"
   ]
  },
  {
   "cell_type": "markdown",
   "id": "optical-affect",
   "metadata": {
    "papermill": {
     "duration": 0.017088,
     "end_time": "2021-05-09T04:34:38.895716",
     "exception": false,
     "start_time": "2021-05-09T04:34:38.878628",
     "status": "completed"
    },
    "tags": []
   },
   "source": [
    "## 1.\n",
    "\n",
    "What is the median of the `points` column in the `reviews` DataFrame?"
   ]
  },
  {
   "cell_type": "code",
   "execution_count": 2,
   "id": "adjusted-algeria",
   "metadata": {
    "execution": {
     "iopub.execute_input": "2021-05-09T04:34:38.937452Z",
     "iopub.status.busy": "2021-05-09T04:34:38.936535Z",
     "iopub.status.idle": "2021-05-09T04:34:38.942544Z",
     "shell.execute_reply": "2021-05-09T04:34:38.943175Z"
    },
    "papermill": {
     "duration": 0.028799,
     "end_time": "2021-05-09T04:34:38.943345",
     "exception": false,
     "start_time": "2021-05-09T04:34:38.914546",
     "status": "completed"
    },
    "tags": []
   },
   "outputs": [
    {
     "data": {
      "application/javascript": [
       "parent.postMessage({\"jupyterEvent\": \"custom.exercise_interaction\", \"data\": {\"outcomeType\": 1, \"valueTowardsCompletion\": 0.14285714285714285, \"interactionType\": 1, \"questionType\": 1, \"questionId\": \"1_MedianPoints\", \"learnToolsVersion\": \"0.3.4\", \"failureMessage\": \"\", \"exceptionClass\": \"\", \"trace\": \"\"}}, \"*\")"
      ],
      "text/plain": [
       "<IPython.core.display.Javascript object>"
      ]
     },
     "metadata": {},
     "output_type": "display_data"
    },
    {
     "data": {
      "text/markdown": [
       "<span style=\"color:#33cc33\">Correct</span>"
      ],
      "text/plain": [
       "Correct"
      ]
     },
     "metadata": {},
     "output_type": "display_data"
    }
   ],
   "source": [
    "median_points = reviews['points'].median()\n",
    "# Check your answer\n",
    "q1.check()"
   ]
  },
  {
   "cell_type": "code",
   "execution_count": 3,
   "id": "liked-testimony",
   "metadata": {
    "execution": {
     "iopub.execute_input": "2021-05-09T04:34:38.983462Z",
     "iopub.status.busy": "2021-05-09T04:34:38.982746Z",
     "iopub.status.idle": "2021-05-09T04:34:38.986718Z",
     "shell.execute_reply": "2021-05-09T04:34:38.986161Z"
    },
    "papermill": {
     "duration": 0.024959,
     "end_time": "2021-05-09T04:34:38.986879",
     "exception": false,
     "start_time": "2021-05-09T04:34:38.961920",
     "status": "completed"
    },
    "tags": []
   },
   "outputs": [],
   "source": [
    "#q1.hint()\n",
    "#q1.solution()"
   ]
  },
  {
   "cell_type": "markdown",
   "id": "failing-poker",
   "metadata": {
    "papermill": {
     "duration": 0.018702,
     "end_time": "2021-05-09T04:34:39.024738",
     "exception": false,
     "start_time": "2021-05-09T04:34:39.006036",
     "status": "completed"
    },
    "tags": []
   },
   "source": [
    "## 2. \n",
    "What countries are represented in the dataset? (Your answer should not include any duplicates.)"
   ]
  },
  {
   "cell_type": "code",
   "execution_count": 4,
   "id": "several-buyer",
   "metadata": {
    "execution": {
     "iopub.execute_input": "2021-05-09T04:34:39.085906Z",
     "iopub.status.busy": "2021-05-09T04:34:39.085215Z",
     "iopub.status.idle": "2021-05-09T04:34:39.090128Z",
     "shell.execute_reply": "2021-05-09T04:34:39.090763Z"
    },
    "papermill": {
     "duration": 0.044701,
     "end_time": "2021-05-09T04:34:39.090961",
     "exception": false,
     "start_time": "2021-05-09T04:34:39.046260",
     "status": "completed"
    },
    "tags": []
   },
   "outputs": [
    {
     "data": {
      "application/javascript": [
       "parent.postMessage({\"jupyterEvent\": \"custom.exercise_interaction\", \"data\": {\"outcomeType\": 1, \"valueTowardsCompletion\": 0.14285714285714285, \"interactionType\": 1, \"questionType\": 2, \"questionId\": \"2_UniqueCountries\", \"learnToolsVersion\": \"0.3.4\", \"failureMessage\": \"\", \"exceptionClass\": \"\", \"trace\": \"\"}}, \"*\")"
      ],
      "text/plain": [
       "<IPython.core.display.Javascript object>"
      ]
     },
     "metadata": {},
     "output_type": "display_data"
    },
    {
     "data": {
      "text/markdown": [
       "<span style=\"color:#33cc33\">Correct</span>"
      ],
      "text/plain": [
       "Correct"
      ]
     },
     "metadata": {},
     "output_type": "display_data"
    }
   ],
   "source": [
    "countries = reviews['country'].unique()\n",
    "# Check your answer\n",
    "q2.check()"
   ]
  },
  {
   "cell_type": "code",
   "execution_count": 5,
   "id": "aquatic-exhibition",
   "metadata": {
    "execution": {
     "iopub.execute_input": "2021-05-09T04:34:39.134316Z",
     "iopub.status.busy": "2021-05-09T04:34:39.133638Z",
     "iopub.status.idle": "2021-05-09T04:34:39.136514Z",
     "shell.execute_reply": "2021-05-09T04:34:39.137026Z"
    },
    "papermill": {
     "duration": 0.026252,
     "end_time": "2021-05-09T04:34:39.137195",
     "exception": false,
     "start_time": "2021-05-09T04:34:39.110943",
     "status": "completed"
    },
    "tags": []
   },
   "outputs": [],
   "source": [
    "#q2.hint()\n",
    "#q2.solution()"
   ]
  },
  {
   "cell_type": "markdown",
   "id": "vocational-practice",
   "metadata": {
    "papermill": {
     "duration": 0.019914,
     "end_time": "2021-05-09T04:34:39.177372",
     "exception": false,
     "start_time": "2021-05-09T04:34:39.157458",
     "status": "completed"
    },
    "tags": []
   },
   "source": [
    "## 3.\n",
    "How often does each country appear in the dataset? Create a Series `reviews_per_country` mapping countries to the count of reviews of wines from that country."
   ]
  },
  {
   "cell_type": "code",
   "execution_count": 6,
   "id": "valued-imperial",
   "metadata": {
    "execution": {
     "iopub.execute_input": "2021-05-09T04:34:39.222248Z",
     "iopub.status.busy": "2021-05-09T04:34:39.221586Z",
     "iopub.status.idle": "2021-05-09T04:34:39.260864Z",
     "shell.execute_reply": "2021-05-09T04:34:39.260285Z"
    },
    "papermill": {
     "duration": 0.062531,
     "end_time": "2021-05-09T04:34:39.261017",
     "exception": false,
     "start_time": "2021-05-09T04:34:39.198486",
     "status": "completed"
    },
    "tags": []
   },
   "outputs": [
    {
     "data": {
      "application/javascript": [
       "parent.postMessage({\"jupyterEvent\": \"custom.exercise_interaction\", \"data\": {\"outcomeType\": 1, \"valueTowardsCompletion\": 0.14285714285714285, \"interactionType\": 1, \"questionType\": 1, \"questionId\": \"3_ReviewsPerCountry\", \"learnToolsVersion\": \"0.3.4\", \"failureMessage\": \"\", \"exceptionClass\": \"\", \"trace\": \"\"}}, \"*\")"
      ],
      "text/plain": [
       "<IPython.core.display.Javascript object>"
      ]
     },
     "metadata": {},
     "output_type": "display_data"
    },
    {
     "data": {
      "text/markdown": [
       "<span style=\"color:#33cc33\">Correct</span>"
      ],
      "text/plain": [
       "Correct"
      ]
     },
     "metadata": {},
     "output_type": "display_data"
    }
   ],
   "source": [
    "reviews_per_country = reviews['country'].value_counts()\n",
    "\n",
    "# Check your answer\n",
    "q3.check()"
   ]
  },
  {
   "cell_type": "code",
   "execution_count": 7,
   "id": "strong-session",
   "metadata": {
    "execution": {
     "iopub.execute_input": "2021-05-09T04:34:39.309266Z",
     "iopub.status.busy": "2021-05-09T04:34:39.308507Z",
     "iopub.status.idle": "2021-05-09T04:34:39.312429Z",
     "shell.execute_reply": "2021-05-09T04:34:39.311755Z"
    },
    "papermill": {
     "duration": 0.030319,
     "end_time": "2021-05-09T04:34:39.312573",
     "exception": false,
     "start_time": "2021-05-09T04:34:39.282254",
     "status": "completed"
    },
    "tags": []
   },
   "outputs": [],
   "source": [
    "#q3.hint()\n",
    "#q3.solution()"
   ]
  },
  {
   "cell_type": "markdown",
   "id": "parallel-access",
   "metadata": {
    "papermill": {
     "duration": 0.020958,
     "end_time": "2021-05-09T04:34:39.354826",
     "exception": false,
     "start_time": "2021-05-09T04:34:39.333868",
     "status": "completed"
    },
    "tags": []
   },
   "source": [
    "## 4.\n",
    "Create variable `centered_price` containing a version of the `price` column with the mean price subtracted.\n",
    "\n",
    "(Note: this 'centering' transformation is a common preprocessing step before applying various machine learning algorithms.) "
   ]
  },
  {
   "cell_type": "code",
   "execution_count": 8,
   "id": "sweet-commitment",
   "metadata": {
    "execution": {
     "iopub.execute_input": "2021-05-09T04:34:39.403040Z",
     "iopub.status.busy": "2021-05-09T04:34:39.402058Z",
     "iopub.status.idle": "2021-05-09T04:34:39.410060Z",
     "shell.execute_reply": "2021-05-09T04:34:39.410497Z"
    },
    "papermill": {
     "duration": 0.034468,
     "end_time": "2021-05-09T04:34:39.410665",
     "exception": false,
     "start_time": "2021-05-09T04:34:39.376197",
     "status": "completed"
    },
    "tags": []
   },
   "outputs": [
    {
     "data": {
      "application/javascript": [
       "parent.postMessage({\"jupyterEvent\": \"custom.exercise_interaction\", \"data\": {\"outcomeType\": 1, \"valueTowardsCompletion\": 0.14285714285714285, \"interactionType\": 1, \"questionType\": 1, \"questionId\": \"4_CenteredPrice\", \"learnToolsVersion\": \"0.3.4\", \"failureMessage\": \"\", \"exceptionClass\": \"\", \"trace\": \"\"}}, \"*\")"
      ],
      "text/plain": [
       "<IPython.core.display.Javascript object>"
      ]
     },
     "metadata": {},
     "output_type": "display_data"
    },
    {
     "data": {
      "text/markdown": [
       "<span style=\"color:#33cc33\">Correct</span>"
      ],
      "text/plain": [
       "Correct"
      ]
     },
     "metadata": {},
     "output_type": "display_data"
    }
   ],
   "source": [
    "centered_price = reviews['price'] - reviews['price'].mean()\n",
    "\n",
    "# Check your answer\n",
    "q4.check()"
   ]
  },
  {
   "cell_type": "code",
   "execution_count": 9,
   "id": "incorporated-simpson",
   "metadata": {
    "execution": {
     "iopub.execute_input": "2021-05-09T04:34:39.460523Z",
     "iopub.status.busy": "2021-05-09T04:34:39.459726Z",
     "iopub.status.idle": "2021-05-09T04:34:39.463329Z",
     "shell.execute_reply": "2021-05-09T04:34:39.462783Z"
    },
    "papermill": {
     "duration": 0.030494,
     "end_time": "2021-05-09T04:34:39.463476",
     "exception": false,
     "start_time": "2021-05-09T04:34:39.432982",
     "status": "completed"
    },
    "tags": []
   },
   "outputs": [],
   "source": [
    "#q4.hint()\n",
    "#q4.solution()"
   ]
  },
  {
   "cell_type": "markdown",
   "id": "offensive-confidence",
   "metadata": {
    "papermill": {
     "duration": 0.022189,
     "end_time": "2021-05-09T04:34:39.508607",
     "exception": false,
     "start_time": "2021-05-09T04:34:39.486418",
     "status": "completed"
    },
    "tags": []
   },
   "source": [
    "## 5.\n",
    "I'm an economical wine buyer. Which wine is the \"best bargain\"? Create a variable `bargain_wine` with the title of the wine with the highest points-to-price ratio in the dataset."
   ]
  },
  {
   "cell_type": "code",
   "execution_count": 10,
   "id": "center-evaluation",
   "metadata": {
    "execution": {
     "iopub.execute_input": "2021-05-09T04:34:39.559197Z",
     "iopub.status.busy": "2021-05-09T04:34:39.558488Z",
     "iopub.status.idle": "2021-05-09T04:34:39.570936Z",
     "shell.execute_reply": "2021-05-09T04:34:39.570344Z"
    },
    "papermill": {
     "duration": 0.040048,
     "end_time": "2021-05-09T04:34:39.571081",
     "exception": false,
     "start_time": "2021-05-09T04:34:39.531033",
     "status": "completed"
    },
    "tags": []
   },
   "outputs": [
    {
     "data": {
      "application/javascript": [
       "parent.postMessage({\"jupyterEvent\": \"custom.exercise_interaction\", \"data\": {\"outcomeType\": 1, \"valueTowardsCompletion\": 0.14285714285714285, \"interactionType\": 1, \"questionType\": 2, \"questionId\": \"5_BargainWine\", \"learnToolsVersion\": \"0.3.4\", \"failureMessage\": \"\", \"exceptionClass\": \"\", \"trace\": \"\"}}, \"*\")"
      ],
      "text/plain": [
       "<IPython.core.display.Javascript object>"
      ]
     },
     "metadata": {},
     "output_type": "display_data"
    },
    {
     "data": {
      "text/markdown": [
       "<span style=\"color:#33cc33\">Correct</span>"
      ],
      "text/plain": [
       "Correct"
      ]
     },
     "metadata": {},
     "output_type": "display_data"
    }
   ],
   "source": [
    "index = (reviews['points'] / reviews['price']).idxmax()\n",
    "bargain_wine = reviews.loc[index, 'title']\n",
    "\n",
    "# Check your answer\n",
    "q5.check()"
   ]
  },
  {
   "cell_type": "code",
   "execution_count": 11,
   "id": "quality-testing",
   "metadata": {
    "execution": {
     "iopub.execute_input": "2021-05-09T04:34:39.622948Z",
     "iopub.status.busy": "2021-05-09T04:34:39.622037Z",
     "iopub.status.idle": "2021-05-09T04:34:39.625376Z",
     "shell.execute_reply": "2021-05-09T04:34:39.624747Z"
    },
    "papermill": {
     "duration": 0.030915,
     "end_time": "2021-05-09T04:34:39.625512",
     "exception": false,
     "start_time": "2021-05-09T04:34:39.594597",
     "status": "completed"
    },
    "tags": []
   },
   "outputs": [],
   "source": [
    "#q5.hint()\n",
    "#q5.solution()"
   ]
  },
  {
   "cell_type": "markdown",
   "id": "chemical-arlington",
   "metadata": {
    "papermill": {
     "duration": 0.023316,
     "end_time": "2021-05-09T04:34:39.672563",
     "exception": false,
     "start_time": "2021-05-09T04:34:39.649247",
     "status": "completed"
    },
    "tags": []
   },
   "source": [
    "## 6.\n",
    "There are only so many words you can use when describing a bottle of wine. Is a wine more likely to be \"tropical\" or \"fruity\"? Create a Series `descriptor_counts` counting how many times each of these two words appears in the `description` column in the dataset."
   ]
  },
  {
   "cell_type": "code",
   "execution_count": 12,
   "id": "nutritional-astronomy",
   "metadata": {
    "execution": {
     "iopub.execute_input": "2021-05-09T04:34:39.723480Z",
     "iopub.status.busy": "2021-05-09T04:34:39.722537Z",
     "iopub.status.idle": "2021-05-09T04:34:39.881065Z",
     "shell.execute_reply": "2021-05-09T04:34:39.880429Z"
    },
    "papermill": {
     "duration": 0.185026,
     "end_time": "2021-05-09T04:34:39.881199",
     "exception": false,
     "start_time": "2021-05-09T04:34:39.696173",
     "status": "completed"
    },
    "tags": []
   },
   "outputs": [
    {
     "data": {
      "application/javascript": [
       "parent.postMessage({\"jupyterEvent\": \"custom.exercise_interaction\", \"data\": {\"outcomeType\": 1, \"valueTowardsCompletion\": 0.14285714285714285, \"interactionType\": 1, \"questionType\": 1, \"questionId\": \"6_DescriptorCounts\", \"learnToolsVersion\": \"0.3.4\", \"failureMessage\": \"\", \"exceptionClass\": \"\", \"trace\": \"\"}}, \"*\")"
      ],
      "text/plain": [
       "<IPython.core.display.Javascript object>"
      ]
     },
     "metadata": {},
     "output_type": "display_data"
    },
    {
     "data": {
      "text/markdown": [
       "<span style=\"color:#33cc33\">Correct</span>"
      ],
      "text/plain": [
       "Correct"
      ]
     },
     "metadata": {},
     "output_type": "display_data"
    }
   ],
   "source": [
    "tropical = reviews.description.map(lambda desc: \"tropical\" in desc).sum()\n",
    "fruity = reviews.description.map(lambda desc: \"fruity\" in desc).sum()\n",
    "descriptor_counts = pd.Series([tropical, fruity], index=['tropical', 'fruity'])\n",
    "# Check your answer\n",
    "q6.check()"
   ]
  },
  {
   "cell_type": "code",
   "execution_count": 13,
   "id": "frank-maine",
   "metadata": {
    "execution": {
     "iopub.execute_input": "2021-05-09T04:34:39.934059Z",
     "iopub.status.busy": "2021-05-09T04:34:39.933401Z",
     "iopub.status.idle": "2021-05-09T04:34:39.936257Z",
     "shell.execute_reply": "2021-05-09T04:34:39.936749Z"
    },
    "papermill": {
     "duration": 0.03106,
     "end_time": "2021-05-09T04:34:39.936961",
     "exception": false,
     "start_time": "2021-05-09T04:34:39.905901",
     "status": "completed"
    },
    "tags": []
   },
   "outputs": [],
   "source": [
    "#q6.hint()\n",
    "#q6.solution()"
   ]
  },
  {
   "cell_type": "markdown",
   "id": "exempt-falls",
   "metadata": {
    "papermill": {
     "duration": 0.02439,
     "end_time": "2021-05-09T04:34:39.986089",
     "exception": false,
     "start_time": "2021-05-09T04:34:39.961699",
     "status": "completed"
    },
    "tags": []
   },
   "source": [
    "## 7.\n",
    "We'd like to host these wine reviews on our website, but a rating system ranging from 80 to 100 points is too hard to understand - we'd like to translate them into simple star ratings. A score of 95 or higher counts as 3 stars, a score of at least 85 but less than 95 is 2 stars. Any other score is 1 star.\n",
    "\n",
    "Also, the Canadian Vintners Association bought a lot of ads on the site, so any wines from Canada should automatically get 3 stars, regardless of points.\n",
    "\n",
    "Create a series `star_ratings` with the number of stars corresponding to each review in the dataset."
   ]
  },
  {
   "cell_type": "code",
   "execution_count": 14,
   "id": "agricultural-study",
   "metadata": {
    "execution": {
     "iopub.execute_input": "2021-05-09T04:34:40.039501Z",
     "iopub.status.busy": "2021-05-09T04:34:40.038779Z",
     "iopub.status.idle": "2021-05-09T04:34:43.064467Z",
     "shell.execute_reply": "2021-05-09T04:34:43.063825Z"
    },
    "papermill": {
     "duration": 3.053302,
     "end_time": "2021-05-09T04:34:43.064611",
     "exception": false,
     "start_time": "2021-05-09T04:34:40.011309",
     "status": "completed"
    },
    "tags": []
   },
   "outputs": [
    {
     "data": {
      "application/javascript": [
       "parent.postMessage({\"jupyterEvent\": \"custom.exercise_interaction\", \"data\": {\"outcomeType\": 1, \"valueTowardsCompletion\": 0.14285714285714285, \"interactionType\": 1, \"questionType\": 1, \"questionId\": \"7_StarRatings\", \"learnToolsVersion\": \"0.3.4\", \"failureMessage\": \"\", \"exceptionClass\": \"\", \"trace\": \"\"}}, \"*\")"
      ],
      "text/plain": [
       "<IPython.core.display.Javascript object>"
      ]
     },
     "metadata": {},
     "output_type": "display_data"
    },
    {
     "data": {
      "text/markdown": [
       "<span style=\"color:#33cc33\">Correct</span>"
      ],
      "text/plain": [
       "Correct"
      ]
     },
     "metadata": {},
     "output_type": "display_data"
    }
   ],
   "source": [
    "def rate(row):\n",
    "    if row['country'] == 'Canada':\n",
    "        return 3\n",
    "    elif row['points'] >= 95:\n",
    "        return 3\n",
    "    elif row['points'] >= 85:\n",
    "        return 2\n",
    "    else:\n",
    "        return 1\n",
    "\n",
    "star_ratings = reviews.apply(rate, axis=1)\n",
    "\n",
    "\n",
    "# Check your answer\n",
    "q7.check()"
   ]
  },
  {
   "cell_type": "code",
   "execution_count": 15,
   "id": "turned-riding",
   "metadata": {
    "execution": {
     "iopub.execute_input": "2021-05-09T04:34:43.121447Z",
     "iopub.status.busy": "2021-05-09T04:34:43.120521Z",
     "iopub.status.idle": "2021-05-09T04:34:43.123539Z",
     "shell.execute_reply": "2021-05-09T04:34:43.122928Z"
    },
    "papermill": {
     "duration": 0.032788,
     "end_time": "2021-05-09T04:34:43.123687",
     "exception": false,
     "start_time": "2021-05-09T04:34:43.090899",
     "status": "completed"
    },
    "tags": []
   },
   "outputs": [],
   "source": [
    "#q7.hint()\n",
    "#q7.solution()"
   ]
  },
  {
   "cell_type": "markdown",
   "id": "scheduled-fairy",
   "metadata": {
    "papermill": {
     "duration": 0.026432,
     "end_time": "2021-05-09T04:34:43.176384",
     "exception": false,
     "start_time": "2021-05-09T04:34:43.149952",
     "status": "completed"
    },
    "tags": []
   },
   "source": [
    "# Keep going\n",
    "Continue to **[grouping and sorting](https://www.kaggle.com/residentmario/grouping-and-sorting)**."
   ]
  },
  {
   "cell_type": "markdown",
   "id": "insured-playlist",
   "metadata": {
    "papermill": {
     "duration": 0.025861,
     "end_time": "2021-05-09T04:34:43.229385",
     "exception": false,
     "start_time": "2021-05-09T04:34:43.203524",
     "status": "completed"
    },
    "tags": []
   },
   "source": [
    "---\n",
    "\n",
    "\n",
    "\n",
    "\n",
    "*Have questions or comments? Visit the [Learn Discussion forum](https://www.kaggle.com/learn-forum/161299) to chat with other Learners.*"
   ]
  }
 ],
 "metadata": {
  "kernelspec": {
   "display_name": "Python 3",
   "language": "python",
   "name": "python3"
  },
  "language_info": {
   "codemirror_mode": {
    "name": "ipython",
    "version": 3
   },
   "file_extension": ".py",
   "mimetype": "text/x-python",
   "name": "python",
   "nbconvert_exporter": "python",
   "pygments_lexer": "ipython3",
   "version": "3.7.9"
  },
  "papermill": {
   "default_parameters": {},
   "duration": 19.503566,
   "end_time": "2021-05-09T04:34:43.864315",
   "environment_variables": {},
   "exception": null,
   "input_path": "__notebook__.ipynb",
   "output_path": "__notebook__.ipynb",
   "parameters": {},
   "start_time": "2021-05-09T04:34:24.360749",
   "version": "2.3.2"
  }
 },
 "nbformat": 4,
 "nbformat_minor": 5
}
