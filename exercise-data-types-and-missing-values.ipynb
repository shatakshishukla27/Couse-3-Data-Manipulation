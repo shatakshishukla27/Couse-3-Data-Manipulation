{
 "cells": [
  {
   "cell_type": "markdown",
   "id": "instrumental-despite",
   "metadata": {
    "papermill": {
     "duration": 0.014299,
     "end_time": "2021-05-09T04:42:33.324055",
     "exception": false,
     "start_time": "2021-05-09T04:42:33.309756",
     "status": "completed"
    },
    "tags": []
   },
   "source": [
    "**This notebook is an exercise in the [Pandas](https://www.kaggle.com/learn/pandas) course.  You can reference the tutorial at [this link](https://www.kaggle.com/residentmario/data-types-and-missing-values).**\n",
    "\n",
    "---\n"
   ]
  },
  {
   "cell_type": "markdown",
   "id": "viral-stylus",
   "metadata": {
    "papermill": {
     "duration": 0.007878,
     "end_time": "2021-05-09T04:42:33.340572",
     "exception": false,
     "start_time": "2021-05-09T04:42:33.332694",
     "status": "completed"
    },
    "tags": []
   },
   "source": [
    "# Introduction\n",
    "\n",
    "Run the following cell to load your data and some utility functions."
   ]
  },
  {
   "cell_type": "code",
   "execution_count": 1,
   "id": "contained-edwards",
   "metadata": {
    "execution": {
     "iopub.execute_input": "2021-05-09T04:42:33.362859Z",
     "iopub.status.busy": "2021-05-09T04:42:33.361254Z",
     "iopub.status.idle": "2021-05-09T04:42:36.192985Z",
     "shell.execute_reply": "2021-05-09T04:42:36.193660Z"
    },
    "papermill": {
     "duration": 2.845261,
     "end_time": "2021-05-09T04:42:36.194017",
     "exception": false,
     "start_time": "2021-05-09T04:42:33.348756",
     "status": "completed"
    },
    "tags": []
   },
   "outputs": [
    {
     "name": "stdout",
     "output_type": "stream",
     "text": [
      "Setup complete.\n"
     ]
    }
   ],
   "source": [
    "import pandas as pd\n",
    "\n",
    "reviews = pd.read_csv(\"../input/wine-reviews/winemag-data-130k-v2.csv\", index_col=0)\n",
    "\n",
    "from learntools.core import binder; binder.bind(globals())\n",
    "from learntools.pandas.data_types_and_missing_data import *\n",
    "print(\"Setup complete.\")"
   ]
  },
  {
   "cell_type": "markdown",
   "id": "median-motor",
   "metadata": {
    "papermill": {
     "duration": 0.008412,
     "end_time": "2021-05-09T04:42:36.212526",
     "exception": false,
     "start_time": "2021-05-09T04:42:36.204114",
     "status": "completed"
    },
    "tags": []
   },
   "source": [
    "# Exercises"
   ]
  },
  {
   "cell_type": "markdown",
   "id": "baking-hearts",
   "metadata": {
    "papermill": {
     "duration": 0.008217,
     "end_time": "2021-05-09T04:42:36.229426",
     "exception": false,
     "start_time": "2021-05-09T04:42:36.221209",
     "status": "completed"
    },
    "tags": []
   },
   "source": [
    "## 1. \n",
    "What is the data type of the `points` column in the dataset?"
   ]
  },
  {
   "cell_type": "code",
   "execution_count": 2,
   "id": "specified-ontario",
   "metadata": {
    "execution": {
     "iopub.execute_input": "2021-05-09T04:42:36.251595Z",
     "iopub.status.busy": "2021-05-09T04:42:36.250655Z",
     "iopub.status.idle": "2021-05-09T04:42:36.261842Z",
     "shell.execute_reply": "2021-05-09T04:42:36.261196Z"
    },
    "papermill": {
     "duration": 0.023777,
     "end_time": "2021-05-09T04:42:36.261977",
     "exception": false,
     "start_time": "2021-05-09T04:42:36.238200",
     "status": "completed"
    },
    "tags": []
   },
   "outputs": [
    {
     "data": {
      "application/javascript": [
       "parent.postMessage({\"jupyterEvent\": \"custom.exercise_interaction\", \"data\": {\"outcomeType\": 1, \"valueTowardsCompletion\": 0.25, \"interactionType\": 1, \"questionType\": 1, \"questionId\": \"1_PointsDtype\", \"learnToolsVersion\": \"0.3.4\", \"failureMessage\": \"\", \"exceptionClass\": \"\", \"trace\": \"\"}}, \"*\")"
      ],
      "text/plain": [
       "<IPython.core.display.Javascript object>"
      ]
     },
     "metadata": {},
     "output_type": "display_data"
    },
    {
     "data": {
      "text/markdown": [
       "<span style=\"color:#33cc33\">Correct</span>"
      ],
      "text/plain": [
       "Correct"
      ]
     },
     "metadata": {},
     "output_type": "display_data"
    }
   ],
   "source": [
    "# Your code here\n",
    "dtype = reviews['points'].dtype\n",
    "# Check your answer\n",
    "q1.check()"
   ]
  },
  {
   "cell_type": "code",
   "execution_count": 3,
   "id": "specified-broadcast",
   "metadata": {
    "execution": {
     "iopub.execute_input": "2021-05-09T04:42:36.285628Z",
     "iopub.status.busy": "2021-05-09T04:42:36.284837Z",
     "iopub.status.idle": "2021-05-09T04:42:36.288658Z",
     "shell.execute_reply": "2021-05-09T04:42:36.287998Z"
    },
    "papermill": {
     "duration": 0.016791,
     "end_time": "2021-05-09T04:42:36.288804",
     "exception": false,
     "start_time": "2021-05-09T04:42:36.272013",
     "status": "completed"
    },
    "tags": []
   },
   "outputs": [],
   "source": [
    "#q1.hint()\n",
    "#q1.solution()"
   ]
  },
  {
   "cell_type": "markdown",
   "id": "simplified-queensland",
   "metadata": {
    "papermill": {
     "duration": 0.009608,
     "end_time": "2021-05-09T04:42:36.309842",
     "exception": false,
     "start_time": "2021-05-09T04:42:36.300234",
     "status": "completed"
    },
    "tags": []
   },
   "source": [
    "## 2. \n",
    "Create a Series from entries in the `points` column, but convert the entries to strings. Hint: strings are `str` in native Python."
   ]
  },
  {
   "cell_type": "code",
   "execution_count": 4,
   "id": "cellular-milton",
   "metadata": {
    "execution": {
     "iopub.execute_input": "2021-05-09T04:42:36.333734Z",
     "iopub.status.busy": "2021-05-09T04:42:36.333110Z",
     "iopub.status.idle": "2021-05-09T04:42:36.420509Z",
     "shell.execute_reply": "2021-05-09T04:42:36.421128Z"
    },
    "papermill": {
     "duration": 0.100361,
     "end_time": "2021-05-09T04:42:36.421342",
     "exception": false,
     "start_time": "2021-05-09T04:42:36.320981",
     "status": "completed"
    },
    "tags": []
   },
   "outputs": [
    {
     "data": {
      "application/javascript": [
       "parent.postMessage({\"jupyterEvent\": \"custom.exercise_interaction\", \"data\": {\"outcomeType\": 1, \"valueTowardsCompletion\": 0.25, \"interactionType\": 1, \"questionType\": 1, \"questionId\": \"2_StrPoints\", \"learnToolsVersion\": \"0.3.4\", \"failureMessage\": \"\", \"exceptionClass\": \"\", \"trace\": \"\"}}, \"*\")"
      ],
      "text/plain": [
       "<IPython.core.display.Javascript object>"
      ]
     },
     "metadata": {},
     "output_type": "display_data"
    },
    {
     "data": {
      "text/markdown": [
       "<span style=\"color:#33cc33\">Correct</span>"
      ],
      "text/plain": [
       "Correct"
      ]
     },
     "metadata": {},
     "output_type": "display_data"
    }
   ],
   "source": [
    "point_strings = reviews['points'].astype(str)\n",
    "\n",
    "# Check your answer\n",
    "q2.check()"
   ]
  },
  {
   "cell_type": "code",
   "execution_count": 5,
   "id": "biological-artist",
   "metadata": {
    "execution": {
     "iopub.execute_input": "2021-05-09T04:42:36.448059Z",
     "iopub.status.busy": "2021-05-09T04:42:36.447312Z",
     "iopub.status.idle": "2021-05-09T04:42:36.450217Z",
     "shell.execute_reply": "2021-05-09T04:42:36.450706Z"
    },
    "papermill": {
     "duration": 0.018877,
     "end_time": "2021-05-09T04:42:36.450880",
     "exception": false,
     "start_time": "2021-05-09T04:42:36.432003",
     "status": "completed"
    },
    "tags": []
   },
   "outputs": [],
   "source": [
    "#q2.hint()\n",
    "#q2.solution()"
   ]
  },
  {
   "cell_type": "markdown",
   "id": "extreme-suffering",
   "metadata": {
    "papermill": {
     "duration": 0.011594,
     "end_time": "2021-05-09T04:42:36.473643",
     "exception": false,
     "start_time": "2021-05-09T04:42:36.462049",
     "status": "completed"
    },
    "tags": []
   },
   "source": [
    "## 3.\n",
    "Sometimes the price column is null. How many reviews in the dataset are missing a price?"
   ]
  },
  {
   "cell_type": "code",
   "execution_count": 6,
   "id": "affected-upper",
   "metadata": {
    "execution": {
     "iopub.execute_input": "2021-05-09T04:42:36.500992Z",
     "iopub.status.busy": "2021-05-09T04:42:36.500124Z",
     "iopub.status.idle": "2021-05-09T04:42:36.507025Z",
     "shell.execute_reply": "2021-05-09T04:42:36.507544Z"
    },
    "papermill": {
     "duration": 0.022367,
     "end_time": "2021-05-09T04:42:36.507734",
     "exception": false,
     "start_time": "2021-05-09T04:42:36.485367",
     "status": "completed"
    },
    "tags": []
   },
   "outputs": [
    {
     "data": {
      "application/javascript": [
       "parent.postMessage({\"jupyterEvent\": \"custom.exercise_interaction\", \"data\": {\"outcomeType\": 1, \"valueTowardsCompletion\": 0.25, \"interactionType\": 1, \"questionType\": 1, \"questionId\": \"3_CountMissingPrices\", \"learnToolsVersion\": \"0.3.4\", \"failureMessage\": \"\", \"exceptionClass\": \"\", \"trace\": \"\"}}, \"*\")"
      ],
      "text/plain": [
       "<IPython.core.display.Javascript object>"
      ]
     },
     "metadata": {},
     "output_type": "display_data"
    },
    {
     "data": {
      "text/markdown": [
       "<span style=\"color:#33cc33\">Correct</span>"
      ],
      "text/plain": [
       "Correct"
      ]
     },
     "metadata": {},
     "output_type": "display_data"
    }
   ],
   "source": [
    "n_missing_prices = reviews['price'].isnull().sum()\n",
    "\n",
    "# Check your answer\n",
    "q3.check()"
   ]
  },
  {
   "cell_type": "code",
   "execution_count": 7,
   "id": "coral-issue",
   "metadata": {
    "execution": {
     "iopub.execute_input": "2021-05-09T04:42:36.540237Z",
     "iopub.status.busy": "2021-05-09T04:42:36.539647Z",
     "iopub.status.idle": "2021-05-09T04:42:36.543254Z",
     "shell.execute_reply": "2021-05-09T04:42:36.543689Z"
    },
    "papermill": {
     "duration": 0.021287,
     "end_time": "2021-05-09T04:42:36.543885",
     "exception": false,
     "start_time": "2021-05-09T04:42:36.522598",
     "status": "completed"
    },
    "tags": []
   },
   "outputs": [],
   "source": [
    "#q3.hint()\n",
    "#q3.solution()"
   ]
  },
  {
   "cell_type": "markdown",
   "id": "awful-mambo",
   "metadata": {
    "papermill": {
     "duration": 0.014922,
     "end_time": "2021-05-09T04:42:36.572338",
     "exception": false,
     "start_time": "2021-05-09T04:42:36.557416",
     "status": "completed"
    },
    "tags": []
   },
   "source": [
    "## 4.\n",
    "What are the most common wine-producing regions? Create a Series counting the number of times each value occurs in the `region_1` field. This field is often missing data, so replace missing values with `Unknown`. Sort in descending order.  Your output should look something like this:\n",
    "\n",
    "```\n",
    "Unknown                    21247\n",
    "Napa Valley                 4480\n",
    "                           ...  \n",
    "Bardolino Superiore            1\n",
    "Primitivo del Tarantino        1\n",
    "Name: region_1, Length: 1230, dtype: int64\n",
    "```"
   ]
  },
  {
   "cell_type": "code",
   "execution_count": 8,
   "id": "ready-novel",
   "metadata": {
    "execution": {
     "iopub.execute_input": "2021-05-09T04:42:36.611813Z",
     "iopub.status.busy": "2021-05-09T04:42:36.611188Z",
     "iopub.status.idle": "2021-05-09T04:42:36.655666Z",
     "shell.execute_reply": "2021-05-09T04:42:36.654952Z"
    },
    "papermill": {
     "duration": 0.068177,
     "end_time": "2021-05-09T04:42:36.655837",
     "exception": false,
     "start_time": "2021-05-09T04:42:36.587660",
     "status": "completed"
    },
    "tags": []
   },
   "outputs": [
    {
     "data": {
      "application/javascript": [
       "parent.postMessage({\"jupyterEvent\": \"custom.exercise_interaction\", \"data\": {\"outcomeType\": 1, \"valueTowardsCompletion\": 0.25, \"interactionType\": 1, \"questionType\": 2, \"questionId\": \"4_ReviewsPerRegion\", \"learnToolsVersion\": \"0.3.4\", \"failureMessage\": \"\", \"exceptionClass\": \"\", \"trace\": \"\"}}, \"*\")"
      ],
      "text/plain": [
       "<IPython.core.display.Javascript object>"
      ]
     },
     "metadata": {},
     "output_type": "display_data"
    },
    {
     "data": {
      "text/markdown": [
       "<span style=\"color:#33cc33\">Correct</span>"
      ],
      "text/plain": [
       "Correct"
      ]
     },
     "metadata": {},
     "output_type": "display_data"
    }
   ],
   "source": [
    "reviews_per_region = reviews['region_1'].fillna('Unknown').value_counts().sort_values(ascending=False)\n",
    "# Check your answer\n",
    "q4.check()"
   ]
  },
  {
   "cell_type": "code",
   "execution_count": 9,
   "id": "national-times",
   "metadata": {
    "execution": {
     "iopub.execute_input": "2021-05-09T04:42:36.688255Z",
     "iopub.status.busy": "2021-05-09T04:42:36.687189Z",
     "iopub.status.idle": "2021-05-09T04:42:36.690870Z",
     "shell.execute_reply": "2021-05-09T04:42:36.690316Z"
    },
    "papermill": {
     "duration": 0.022812,
     "end_time": "2021-05-09T04:42:36.691012",
     "exception": false,
     "start_time": "2021-05-09T04:42:36.668200",
     "status": "completed"
    },
    "tags": []
   },
   "outputs": [],
   "source": [
    "#q4.hint()\n",
    "#q4.solution()"
   ]
  },
  {
   "cell_type": "markdown",
   "id": "written-border",
   "metadata": {
    "papermill": {
     "duration": 0.012847,
     "end_time": "2021-05-09T04:42:36.718635",
     "exception": false,
     "start_time": "2021-05-09T04:42:36.705788",
     "status": "completed"
    },
    "tags": []
   },
   "source": [
    "# Keep going\n",
    "\n",
    "Move on to **[renaming and combining](https://www.kaggle.com/residentmario/renaming-and-combining)**."
   ]
  },
  {
   "cell_type": "markdown",
   "id": "likely-frequency",
   "metadata": {
    "papermill": {
     "duration": 0.013495,
     "end_time": "2021-05-09T04:42:36.744562",
     "exception": false,
     "start_time": "2021-05-09T04:42:36.731067",
     "status": "completed"
    },
    "tags": []
   },
   "source": [
    "---\n",
    "\n",
    "\n",
    "\n",
    "\n",
    "*Have questions or comments? Visit the [Learn Discussion forum](https://www.kaggle.com/learn-forum/161299) to chat with other Learners.*"
   ]
  }
 ],
 "metadata": {
  "kernelspec": {
   "display_name": "Python 3",
   "language": "python",
   "name": "python3"
  },
  "language_info": {
   "codemirror_mode": {
    "name": "ipython",
    "version": 3
   },
   "file_extension": ".py",
   "mimetype": "text/x-python",
   "name": "python",
   "nbconvert_exporter": "python",
   "pygments_lexer": "ipython3",
   "version": "3.7.9"
  },
  "papermill": {
   "default_parameters": {},
   "duration": 10.643,
   "end_time": "2021-05-09T04:42:37.468496",
   "environment_variables": {},
   "exception": null,
   "input_path": "__notebook__.ipynb",
   "output_path": "__notebook__.ipynb",
   "parameters": {},
   "start_time": "2021-05-09T04:42:26.825496",
   "version": "2.3.2"
  }
 },
 "nbformat": 4,
 "nbformat_minor": 5
}
